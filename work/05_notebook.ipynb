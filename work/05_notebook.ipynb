{
 "cells": [
  {
   "cell_type": "markdown",
   "metadata": {},
   "source": [
    "# PySpark Demo Plotly Notebook\n",
    "## Demo\n",
    "1. Setup Spark\n",
    "2. Load Kaggle Data\n",
    "3. Transform Data with Spark SQL\n",
    "4. Graph Data with Plotly\n",
    "\n",
    "\n",
    "### Requirements\n",
    "1. Create a free [Plotly Chart Studio](https://chart-studio.plot.ly) account\n",
    "2. Generate a Plotly API Key\n",
    "3. Export Username and API Key as enlivenment variables\n",
    "\n",
    "_Prepared by: [Gary A. Stafford](https://twitter.com/GaryStafford)   \n",
    "Associated article: https://wp.me/p1RD28-61V_"
   ]
  },
  {
   "cell_type": "markdown",
   "metadata": {},
   "source": [
    "### Setup Spark\n",
    "Setup Spark SparkSession"
   ]
  },
  {
   "cell_type": "code",
   "execution_count": 1,
   "metadata": {},
   "outputs": [],
   "source": [
    "from pyspark.sql import SparkSession"
   ]
  },
  {
   "cell_type": "code",
   "execution_count": 2,
   "metadata": {},
   "outputs": [],
   "source": [
    "# reference: https://spark.apache.org/docs/latest/configuration.html#viewing-spark-properties\n",
    "spark = SparkSession \\\n",
    "    .builder \\\n",
    "    .appName('05_notebook') \\\n",
    "    .getOrCreate()"
   ]
  },
  {
   "cell_type": "code",
   "execution_count": 3,
   "metadata": {},
   "outputs": [
    {
     "data": {
      "text/plain": [
       "[('spark.app.name', '05_notebook'),\n",
       " ('spark.rdd.compress', 'True'),\n",
       " ('spark.app.id', 'local-1575409000556'),\n",
       " ('spark.serializer.objectStreamReset', '100'),\n",
       " ('spark.master', 'local[*]'),\n",
       " ('spark.driver.port', '44197'),\n",
       " ('spark.executor.id', 'driver'),\n",
       " ('spark.submit.deployMode', 'client'),\n",
       " ('spark.driver.host', 'b814d9d5a2ae'),\n",
       " ('spark.ui.showConsoleProgress', 'true')]"
      ]
     },
     "execution_count": 3,
     "metadata": {},
     "output_type": "execute_result"
    }
   ],
   "source": [
    "spark.sparkContext.getConf().getAll()"
   ]
  },
  {
   "cell_type": "markdown",
   "metadata": {},
   "source": [
    "### Load Kaggle Dataset\n",
    "Load the Kaggle dataset from the CSV file, containing ~21K rows, into Spark DataFrame"
   ]
  },
  {
   "cell_type": "code",
   "execution_count": 4,
   "metadata": {},
   "outputs": [
    {
     "name": "stdout",
     "output_type": "stream",
     "text": [
      "DataFrame rows: 21293\n",
      "DataFrame schema: DataFrame[Date: timestamp, Time: string, Transaction: int, Item: string]\n",
      "+-------------------+--------+-----------+-------------+\n",
      "|Date               |Time    |Transaction|Item         |\n",
      "+-------------------+--------+-----------+-------------+\n",
      "|2016-10-30 00:00:00|09:58:11|1          |Bread        |\n",
      "|2016-10-30 00:00:00|10:05:34|2          |Scandinavian |\n",
      "|2016-10-30 00:00:00|10:05:34|2          |Scandinavian |\n",
      "|2016-10-30 00:00:00|10:07:57|3          |Hot chocolate|\n",
      "|2016-10-30 00:00:00|10:07:57|3          |Jam          |\n",
      "|2016-10-30 00:00:00|10:07:57|3          |Cookies      |\n",
      "|2016-10-30 00:00:00|10:08:41|4          |Muffin       |\n",
      "|2016-10-30 00:00:00|10:13:03|5          |Coffee       |\n",
      "|2016-10-30 00:00:00|10:13:03|5          |Pastry       |\n",
      "|2016-10-30 00:00:00|10:13:03|5          |Bread        |\n",
      "+-------------------+--------+-----------+-------------+\n",
      "only showing top 10 rows\n",
      "\n"
     ]
    }
   ],
   "source": [
    "df1 = spark.read \\\n",
    "    .format('csv') \\\n",
    "    .option('header', 'true') \\\n",
    "    .option('delimiter', ',') \\\n",
    "    .option('inferSchema', True) \\\n",
    "    .load('BreadBasket_DMS.csv')\n",
    "\n",
    "print('DataFrame rows: %d' % df1.count())\n",
    "print('DataFrame schema: %s' % df1)\n",
    "df1.show(10, False)"
   ]
  },
  {
   "cell_type": "markdown",
   "metadata": {},
   "source": [
    "### Transform Data with Spark SQL\n",
    "Transform the DataFrame's bakery data using Spark SQL"
   ]
  },
  {
   "cell_type": "code",
   "execution_count": 5,
   "metadata": {},
   "outputs": [
    {
     "name": "stdout",
     "output_type": "stream",
     "text": [
      "DataFrame rows: 20507\n",
      "+-------------------+-----------+-------------+\n",
      "|date               |transaction|item         |\n",
      "+-------------------+-----------+-------------+\n",
      "|2016-10-30 00:00:00|1          |Bread        |\n",
      "|2016-10-30 00:00:00|2          |Scandinavian |\n",
      "|2016-10-30 00:00:00|2          |Scandinavian |\n",
      "|2016-10-30 00:00:00|3          |Hot chocolate|\n",
      "|2016-10-30 00:00:00|3          |Jam          |\n",
      "+-------------------+-----------+-------------+\n",
      "only showing top 5 rows\n",
      "\n"
     ]
    }
   ],
   "source": [
    "df1.createOrReplaceTempView('tmp_bakery')\n",
    "df2 = spark.sql(\"SELECT date, transaction, item \" +\n",
    "                \"FROM tmp_bakery \" +\n",
    "                \"WHERE item NOT LIKE 'NONE' \" +\n",
    "                \"ORDER BY transaction\")\n",
    "\n",
    "print('DataFrame rows: %d' % df2.count())\n",
    "df2.show(5, False)"
   ]
  },
  {
   "cell_type": "code",
   "execution_count": 6,
   "metadata": {},
   "outputs": [
    {
     "name": "stdout",
     "output_type": "stream",
     "text": [
      "DataFrame rows: 98\n",
      "+-------------------+-----+\n",
      "|date               |count|\n",
      "+-------------------+-----+\n",
      "|2017-01-01 00:00:00|1    |\n",
      "|2017-01-03 00:00:00|87   |\n",
      "|2017-01-04 00:00:00|76   |\n",
      "|2017-01-05 00:00:00|95   |\n",
      "|2017-01-06 00:00:00|84   |\n",
      "+-------------------+-----+\n",
      "only showing top 5 rows\n",
      "\n"
     ]
    }
   ],
   "source": [
    "df2.createOrReplaceTempView('tmp_bakery')\n",
    "\n",
    "df3 = spark.sql(\"SELECT date, count(*) as count \" +\n",
    "                \"FROM tmp_bakery \" +\n",
    "                \"WHERE date >= '2017-01-01' \" +\n",
    "                \"GROUP BY date \" +\n",
    "                \"ORDER BY date\")\n",
    "\n",
    "print('DataFrame rows: %d' % df3.count())\n",
    "df3.show(5, False)"
   ]
  },
  {
   "cell_type": "markdown",
   "metadata": {},
   "source": [
    "### Graph Data with Plotly\n",
    "Use [Plotly](https://plot.ly/python/) to create a chart showing bakery items sold over time  \n",
    "Demostrates linear fit and data smoothing:\n",
    "* [Plotly Python Open Source Graphing Library](https://plot.ly/python/)\n",
    "* [Smoothing in Python](https://plot.ly/python/smoothing/)\n",
    "* [Linear Fit in Python](https://plot.ly/python/linear-fits/)"
   ]
  },
  {
   "cell_type": "code",
   "execution_count": 7,
   "metadata": {},
   "outputs": [],
   "source": [
    "import os\n",
    "from dotenv import load_dotenv\n",
    "import chart_studio.tools\n",
    "import chart_studio.plotly as py\n",
    "import plotly.graph_objs as go\n",
    "from numpy import arange\n",
    "from scipy import stats, signal\n",
    "import warnings\n",
    "\n",
    "warnings.filterwarnings('ignore')"
   ]
  },
  {
   "cell_type": "code",
   "execution_count": 8,
   "metadata": {},
   "outputs": [],
   "source": [
    "# load plotly credentials\n",
    "load_dotenv()\n",
    "chart_studio.tools.set_credentials_file(\n",
    "    username=os.getenv('PLOTLY_USERNAME'), \n",
    "    api_key=os.getenv('PLOTLY_API_KEY'))"
   ]
  },
  {
   "cell_type": "code",
   "execution_count": 9,
   "metadata": {},
   "outputs": [
    {
     "data": {
      "text/html": [
       "\n",
       "        <iframe\n",
       "            width=\"100%\"\n",
       "            height=\"525px\"\n",
       "            src=\"https://plot.ly/~garystafford/20.embed\"\n",
       "            frameborder=\"0\"\n",
       "            allowfullscreen\n",
       "        ></iframe>\n",
       "        "
      ],
      "text/plain": [
       "<IPython.lib.display.IFrame at 0x7ff7468e45c0>"
      ]
     },
     "execution_count": 9,
     "metadata": {},
     "output_type": "execute_result"
    }
   ],
   "source": [
    "pdf4 = df3.toPandas()\n",
    "\n",
    "# Generated linear fit\n",
    "xi = arange(0, len(pdf4.index))\n",
    "slope, intercept, r_value, p_value, std_err = stats.linregress(xi, pdf4['count'])\n",
    "line = slope * xi + intercept\n",
    "\n",
    "layout = dict(title='2017 Bakery Sales',\n",
    "              xaxis=dict(\n",
    "                  title='Month',\n",
    "                  showgrid=True,\n",
    "                  zeroline=True,\n",
    "                  showline=True,\n",
    "                  ticks='outside',\n",
    "                  tickangle=45,\n",
    "                  showticklabels=True),\n",
    "              yaxis=dict(\n",
    "                  title='Items Sold/Day',\n",
    "                  showgrid=True,\n",
    "                  zeroline=True,\n",
    "                  showline=True,\n",
    "                  ticks='outside',\n",
    "                  showticklabels=True))\n",
    "\n",
    "trace1 = go.Bar(x=pdf4['date'], y=pdf4['count'], name='Items Sold')\n",
    "trace2 = go.Scatter(x=pdf4['date'], y=line, mode='lines', name='Linear Fit')\n",
    "trace3 = go.Scatter(x=pdf4['date'], y=signal.savgol_filter(pdf4['count'], 53, 3),\n",
    "                    mode='lines', name='Savitzky-Golay')\n",
    "data = [trace1, trace2, trace3]\n",
    "fig = dict(data=data, layout=layout)\n",
    "py.iplot(fig, filename='jupyter-basic_bar.html')"
   ]
  }
 ],
 "metadata": {
  "kernelspec": {
   "display_name": "Python 3",
   "language": "python",
   "name": "python3"
  },
  "language_info": {
   "codemirror_mode": {
    "name": "ipython",
    "version": 3
   },
   "file_extension": ".py",
   "mimetype": "text/x-python",
   "name": "python",
   "nbconvert_exporter": "python",
   "pygments_lexer": "ipython3",
   "version": "3.7.3"
  },
  "pycharm": {
   "stem_cell": {
    "cell_type": "raw",
    "metadata": {
     "collapsed": false
    },
    "source": []
   }
  }
 },
 "nbformat": 4,
 "nbformat_minor": 4
}

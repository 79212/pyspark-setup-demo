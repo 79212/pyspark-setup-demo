{
 "cells": [
  {
   "cell_type": "markdown",
   "metadata": {},
   "source": [
    "# PySpark Demo Notebook\n",
    "## Demo\n",
    "1. Run PostgreSQL Script\n",
    "2. Load PostgreSQL Data\n",
    "3. Create New Record\n",
    "4. Write New Record to PostgreSQL Table\n",
    "5. Load CSV Data File\n",
    "6. Write Data to PostgreSQL\n",
    "7. Analyze Data with Spark SQL\n",
    "8. Graph Data with BokehJS\n",
    "9. Read and Write Data to Parquet Format"
   ]
  },
  {
   "cell_type": "markdown",
   "metadata": {},
   "source": [
    "### Run PostgreSQL Script\n",
    "Run the PostgreSQL script"
   ]
  },
  {
   "cell_type": "code",
   "execution_count": 1,
   "metadata": {},
   "outputs": [
    {
     "name": "stdout",
     "output_type": "stream",
     "text": [
      "DROP TABLE IF EXISTS \"bakery_basket\"\n",
      "\n",
      "DROP SEQUENCE IF EXISTS bakery_basket_id_seq\n",
      "\n",
      "CREATE SEQUENCE bakery_basket_id_seq INCREMENT 1 MINVALUE 1 MAXVALUE 2147483647 START 1 CACHE 1\n",
      "\n",
      "\n",
      "CREATE TABLE \"public\".\"bakery_basket\" (\n",
      "    \"id\" integer DEFAULT nextval('bakery_basket_id_seq') NOT NULL,\n",
      "    \"date\" character varying(10) NOT NULL,\n",
      "    \"time\" character varying(8) NOT NULL,\n",
      "    \"transaction\" integer NOT NULL,\n",
      "    \"item\" character varying(50) NOT NULL\n",
      ") WITH (oids = false)\n",
      "\n",
      "\n",
      "INSERT INTO \"bakery_basket\" (\"date\", \"time\", \"transaction\", \"item\", \"id\") VALUES\n",
      "('2016-10-30',\t'09:58:11',\t1,\t'Bread',\t1),\n",
      "('2016-10-30',\t'10:05:34',\t2,\t'Scandinavian',\t2),\n",
      "('2016-10-30',\t'10:07:57',\t3,\t'Hot chocolate',\t3)\n",
      "\n",
      "\n"
     ]
    }
   ],
   "source": [
    "%run -i '03_load_sql.py'"
   ]
  },
  {
   "cell_type": "code",
   "execution_count": 2,
   "metadata": {},
   "outputs": [],
   "source": [
    "from pyspark.sql import SparkSession\n",
    "from pyspark.sql.types import StructType, StructField, StringType, IntegerType\n",
    "from pyspark.sql.functions import to_timestamp"
   ]
  },
  {
   "cell_type": "code",
   "execution_count": 3,
   "metadata": {},
   "outputs": [],
   "source": [
    "spark = SparkSession \\\n",
    "    .builder \\\n",
    "    .appName('pyspark_demo_app') \\\n",
    "    .config('spark.driver.extraClassPath',\n",
    "            '/home/garystafford/work/postgresql-42.2.5.jar') \\\n",
    "    .master(\"local[*]\") \\\n",
    "    .getOrCreate()"
   ]
  },
  {
   "cell_type": "markdown",
   "metadata": {},
   "source": [
    "### Load PostgreSQL Data\n",
    "Load the the PostgreSQL 'bakery_basket' table's 3 rows of data into a DataFrame"
   ]
  },
  {
   "cell_type": "code",
   "execution_count": 4,
   "metadata": {},
   "outputs": [
    {
     "name": "stdout",
     "output_type": "stream",
     "text": [
      "CPU times: user 0 ns, sys: 10 ms, total: 10 ms\n",
      "Wall time: 5.05 s\n"
     ]
    }
   ],
   "source": [
    "%%time\n",
    "properties = {\n",
    "    'driver': 'org.postgresql.Driver'\n",
    "}\n",
    "url = 'jdbc:postgresql://postgres:5432/demo'\n",
    "\n",
    "df1 = spark.read \\\n",
    "    .format('jdbc') \\\n",
    "    .option('url', url) \\\n",
    "    .option('user', 'postgres') \\\n",
    "    .option('password', 'postgres1234') \\\n",
    "    .option('driver', properties['driver']) \\\n",
    "    .option('dbtable', 'bakery_basket') \\\n",
    "    .load()\n"
   ]
  },
  {
   "cell_type": "code",
   "execution_count": 5,
   "metadata": {
    "scrolled": true
   },
   "outputs": [
    {
     "name": "stdout",
     "output_type": "stream",
     "text": [
      "+---+----------+--------+-----------+-------------+\n",
      "| id|      date|    time|transaction|         item|\n",
      "+---+----------+--------+-----------+-------------+\n",
      "|  1|2016-10-30|09:58:11|          1|        Bread|\n",
      "|  2|2016-10-30|10:05:34|          2| Scandinavian|\n",
      "|  3|2016-10-30|10:07:57|          3|Hot chocolate|\n",
      "+---+----------+--------+-----------+-------------+\n",
      "\n",
      "CPU times: user 0 ns, sys: 0 ns, total: 0 ns\n",
      "Wall time: 4.41 s\n"
     ]
    }
   ],
   "source": [
    "%%time\n",
    "df1.show()\n",
    "df1.count()"
   ]
  },
  {
   "cell_type": "markdown",
   "metadata": {},
   "source": [
    "### Create New Record\n",
    "Create a new bakery record and load into a DataFrame"
   ]
  },
  {
   "cell_type": "code",
   "execution_count": 6,
   "metadata": {},
   "outputs": [],
   "source": [
    "data = [('2016-10-30', '10:13:27', 2, 'Pastry')]\n",
    "\n",
    "bakery_schema = StructType([\n",
    "    StructField('date', StringType(), True),\n",
    "    StructField('time', StringType(), True),\n",
    "    StructField('transaction', IntegerType(), True),\n",
    "    StructField('item', StringType(), True)\n",
    "])\n",
    "\n",
    "df2 = spark.createDataFrame(data, bakery_schema)"
   ]
  },
  {
   "cell_type": "code",
   "execution_count": 7,
   "metadata": {},
   "outputs": [
    {
     "name": "stdout",
     "output_type": "stream",
     "text": [
      "+----------+--------+-----------+------+\n",
      "|      date|    time|transaction|  item|\n",
      "+----------+--------+-----------+------+\n",
      "|2016-10-30|10:13:27|          2|Pastry|\n",
      "+----------+--------+-----------+------+\n",
      "\n"
     ]
    },
    {
     "data": {
      "text/plain": [
       "1"
      ]
     },
     "execution_count": 7,
     "metadata": {},
     "output_type": "execute_result"
    }
   ],
   "source": [
    "df2.show()\n",
    "df2.count()"
   ]
  },
  {
   "cell_type": "markdown",
   "metadata": {},
   "source": [
    "### Write New Record to PostgreSQL Table\n",
    "Append the contents of the DataFrame to the PostgreSQL 'bakery_basket' table"
   ]
  },
  {
   "cell_type": "code",
   "execution_count": 8,
   "metadata": {},
   "outputs": [],
   "source": [
    "df2.write \\\n",
    "    .format('jdbc') \\\n",
    "    .option('url', url) \\\n",
    "    .option('user', 'postgres') \\\n",
    "    .option('password', 'postgres1234') \\\n",
    "    .option('driver', properties['driver']) \\\n",
    "    .option('dbtable', 'bakery_basket') \\\n",
    "    .mode('append') \\\n",
    "    .save()"
   ]
  },
  {
   "cell_type": "code",
   "execution_count": 9,
   "metadata": {},
   "outputs": [
    {
     "name": "stdout",
     "output_type": "stream",
     "text": [
      "+---+----------+--------+-----------+-------------+\n",
      "| id|      date|    time|transaction|         item|\n",
      "+---+----------+--------+-----------+-------------+\n",
      "|  1|2016-10-30|09:58:11|          1|        Bread|\n",
      "|  2|2016-10-30|10:05:34|          2| Scandinavian|\n",
      "|  3|2016-10-30|10:07:57|          3|Hot chocolate|\n",
      "|  1|2016-10-30|10:13:27|          2|       Pastry|\n",
      "+---+----------+--------+-----------+-------------+\n",
      "\n"
     ]
    },
    {
     "data": {
      "text/plain": [
       "4"
      ]
     },
     "execution_count": 9,
     "metadata": {},
     "output_type": "execute_result"
    }
   ],
   "source": [
    "df1.show()\n",
    "df1.count()"
   ]
  },
  {
   "cell_type": "markdown",
   "metadata": {},
   "source": [
    "### Load CSV File Data\n",
    "Load the Kaggle dataset from the CSV file, containing ~21K records, into a DataFrame"
   ]
  },
  {
   "cell_type": "code",
   "execution_count": 10,
   "metadata": {},
   "outputs": [],
   "source": [
    "df3 = spark.read \\\n",
    "    .format(\"csv\") \\\n",
    "    .option(\"header\", \"true\") \\\n",
    "    .load(\"BreadBasket_DMS.csv\", schema=bakery_schema)"
   ]
  },
  {
   "cell_type": "code",
   "execution_count": 11,
   "metadata": {},
   "outputs": [
    {
     "name": "stdout",
     "output_type": "stream",
     "text": [
      "+----------+--------+-----------+-------------+\n",
      "|      date|    time|transaction|         item|\n",
      "+----------+--------+-----------+-------------+\n",
      "|2016-10-30|09:58:11|          1|        Bread|\n",
      "|2016-10-30|10:05:34|          2| Scandinavian|\n",
      "|2016-10-30|10:05:34|          2| Scandinavian|\n",
      "|2016-10-30|10:07:57|          3|Hot chocolate|\n",
      "|2016-10-30|10:07:57|          3|          Jam|\n",
      "|2016-10-30|10:07:57|          3|      Cookies|\n",
      "|2016-10-30|10:08:41|          4|       Muffin|\n",
      "|2016-10-30|10:13:03|          5|       Coffee|\n",
      "|2016-10-30|10:13:03|          5|       Pastry|\n",
      "|2016-10-30|10:13:03|          5|        Bread|\n",
      "+----------+--------+-----------+-------------+\n",
      "only showing top 10 rows\n",
      "\n"
     ]
    },
    {
     "data": {
      "text/plain": [
       "21293"
      ]
     },
     "execution_count": 11,
     "metadata": {},
     "output_type": "execute_result"
    }
   ],
   "source": [
    "df3.show(10)\n",
    "df3.count()"
   ]
  },
  {
   "cell_type": "markdown",
   "metadata": {},
   "source": [
    "### Write Data to PostgreSQL\n",
    "Append the contents of the DataFrame to the PostgreSQL 'bakery_basket' table"
   ]
  },
  {
   "cell_type": "code",
   "execution_count": 12,
   "metadata": {},
   "outputs": [],
   "source": [
    "df3.write \\\n",
    "    .format('jdbc') \\\n",
    "    .option('url', url) \\\n",
    "    .option('user', 'postgres') \\\n",
    "    .option('password', 'postgres1234') \\\n",
    "    .option('driver', properties['driver']) \\\n",
    "    .option('dbtable', 'bakery_basket') \\\n",
    "    .mode('append') \\\n",
    "    .save()"
   ]
  },
  {
   "cell_type": "code",
   "execution_count": 13,
   "metadata": {},
   "outputs": [
    {
     "name": "stdout",
     "output_type": "stream",
     "text": [
      "+---+----------+--------+-----------+-------------+\n",
      "| id|      date|    time|transaction|         item|\n",
      "+---+----------+--------+-----------+-------------+\n",
      "|  1|2016-10-30|09:58:11|          1|        Bread|\n",
      "|  2|2016-10-30|10:05:34|          2| Scandinavian|\n",
      "|  3|2016-10-30|10:07:57|          3|Hot chocolate|\n",
      "|  1|2016-10-30|10:13:27|          2|       Pastry|\n",
      "|  2|2016-10-30|09:58:11|          1|        Bread|\n",
      "|  3|2016-10-30|10:05:34|          2| Scandinavian|\n",
      "|  4|2016-10-30|10:05:34|          2| Scandinavian|\n",
      "|  5|2016-10-30|10:07:57|          3|Hot chocolate|\n",
      "|  6|2016-10-30|10:07:57|          3|          Jam|\n",
      "|  7|2016-10-30|10:07:57|          3|      Cookies|\n",
      "+---+----------+--------+-----------+-------------+\n",
      "only showing top 10 rows\n",
      "\n"
     ]
    },
    {
     "data": {
      "text/plain": [
       "21297"
      ]
     },
     "execution_count": 13,
     "metadata": {},
     "output_type": "execute_result"
    }
   ],
   "source": [
    "df1.show(10)\n",
    "df1.count()"
   ]
  },
  {
   "cell_type": "markdown",
   "metadata": {},
   "source": [
    "### Analyze Data with Spark SQL\n",
    "Analyze the DataFrame's bakery data using Spark SQL"
   ]
  },
  {
   "cell_type": "code",
   "execution_count": 14,
   "metadata": {},
   "outputs": [
    {
     "name": "stdout",
     "output_type": "stream",
     "text": [
      "+---+----------+--------+-----------+-------------+\n",
      "| id|      date|    time|transaction|         item|\n",
      "+---+----------+--------+-----------+-------------+\n",
      "|  1|2016-10-30|09:58:11|          1|        Bread|\n",
      "|  2|2016-10-30|09:58:11|          1|        Bread|\n",
      "|  3|2016-10-30|10:05:34|          2| Scandinavian|\n",
      "|  4|2016-10-30|10:05:34|          2| Scandinavian|\n",
      "|  2|2016-10-30|10:05:34|          2| Scandinavian|\n",
      "|  1|2016-10-30|10:13:27|          2|       Pastry|\n",
      "|  3|2016-10-30|10:07:57|          3|Hot chocolate|\n",
      "|  5|2016-10-30|10:07:57|          3|Hot chocolate|\n",
      "|  6|2016-10-30|10:07:57|          3|          Jam|\n",
      "|  7|2016-10-30|10:07:57|          3|      Cookies|\n",
      "|  8|2016-10-30|10:08:41|          4|       Muffin|\n",
      "|  9|2016-10-30|10:13:03|          5|       Coffee|\n",
      "| 10|2016-10-30|10:13:03|          5|       Pastry|\n",
      "| 11|2016-10-30|10:13:03|          5|        Bread|\n",
      "| 12|2016-10-30|10:16:55|          6|    Medialuna|\n",
      "+---+----------+--------+-----------+-------------+\n",
      "only showing top 15 rows\n",
      "\n"
     ]
    },
    {
     "data": {
      "text/plain": [
       "21297"
      ]
     },
     "execution_count": 14,
     "metadata": {},
     "output_type": "execute_result"
    }
   ],
   "source": [
    "df1.createOrReplaceTempView(\"bakery_table\")\n",
    "df4 = spark.sql(\"SELECT * FROM bakery_table \" +\n",
    "                \"ORDER BY transaction, date, time\")\n",
    "df4.show(15)\n",
    "df4.count()"
   ]
  },
  {
   "cell_type": "code",
   "execution_count": 15,
   "metadata": {},
   "outputs": [
    {
     "name": "stdout",
     "output_type": "stream",
     "text": [
      "+----------+\n",
      "|item_count|\n",
      "+----------+\n",
      "|        95|\n",
      "+----------+\n",
      "\n",
      "+-------------+-----+\n",
      "|         item|count|\n",
      "+-------------+-----+\n",
      "|       Coffee| 5471|\n",
      "|        Bread| 3326|\n",
      "|          Tea| 1435|\n",
      "|         Cake| 1025|\n",
      "|       Pastry|  857|\n",
      "|     Sandwich|  771|\n",
      "|    Medialuna|  616|\n",
      "|Hot chocolate|  591|\n",
      "|      Cookies|  540|\n",
      "|      Brownie|  379|\n",
      "+-------------+-----+\n",
      "\n"
     ]
    }
   ],
   "source": [
    "df5 = spark.sql(\"SELECT COUNT(DISTINCT item) AS item_count FROM bakery_table\")\n",
    "df5.show()\n",
    "\n",
    "df5 = spark.sql(\"SELECT item, count(*) as count \" +\n",
    "                \"FROM bakery_table \" +\n",
    "                \"WHERE item NOT LIKE 'NONE' \" +\n",
    "                \"GROUP BY item ORDER BY count DESC \" +\n",
    "                \"LIMIT 10\")\n",
    "df5.show()"
   ]
  },
  {
   "cell_type": "markdown",
   "metadata": {},
   "source": [
    "### Graph Data with BokehJS\n",
    "Create a vertical bar chart displaying DataFrame data"
   ]
  },
  {
   "cell_type": "code",
   "execution_count": 16,
   "metadata": {},
   "outputs": [
    {
     "data": {
      "text/html": [
       "\n",
       "    <div class=\"bk-root\">\n",
       "        <a href=\"https://bokeh.pydata.org\" target=\"_blank\" class=\"bk-logo bk-logo-small bk-logo-notebook\"></a>\n",
       "        <span id=\"c2665a03-727d-44a7-8278-8a2a56b6f1fe\">Loading BokehJS ...</span>\n",
       "    </div>"
      ]
     },
     "metadata": {},
     "output_type": "display_data"
    },
    {
     "data": {
      "application/javascript": [
       "\n",
       "(function(root) {\n",
       "  function now() {\n",
       "    return new Date();\n",
       "  }\n",
       "\n",
       "  var force = true;\n",
       "\n",
       "  if (typeof (root._bokeh_onload_callbacks) === \"undefined\" || force === true) {\n",
       "    root._bokeh_onload_callbacks = [];\n",
       "    root._bokeh_is_loading = undefined;\n",
       "  }\n",
       "\n",
       "  var JS_MIME_TYPE = 'application/javascript';\n",
       "  var HTML_MIME_TYPE = 'text/html';\n",
       "  var EXEC_MIME_TYPE = 'application/vnd.bokehjs_exec.v0+json';\n",
       "  var CLASS_NAME = 'output_bokeh rendered_html';\n",
       "\n",
       "  /**\n",
       "   * Render data to the DOM node\n",
       "   */\n",
       "  function render(props, node) {\n",
       "    var script = document.createElement(\"script\");\n",
       "    node.appendChild(script);\n",
       "  }\n",
       "\n",
       "  /**\n",
       "   * Handle when an output is cleared or removed\n",
       "   */\n",
       "  function handleClearOutput(event, handle) {\n",
       "    var cell = handle.cell;\n",
       "\n",
       "    var id = cell.output_area._bokeh_element_id;\n",
       "    var server_id = cell.output_area._bokeh_server_id;\n",
       "    // Clean up Bokeh references\n",
       "    if (id != null && id in Bokeh.index) {\n",
       "      Bokeh.index[id].model.document.clear();\n",
       "      delete Bokeh.index[id];\n",
       "    }\n",
       "\n",
       "    if (server_id !== undefined) {\n",
       "      // Clean up Bokeh references\n",
       "      var cmd = \"from bokeh.io.state import curstate; print(curstate().uuid_to_server['\" + server_id + \"'].get_sessions()[0].document.roots[0]._id)\";\n",
       "      cell.notebook.kernel.execute(cmd, {\n",
       "        iopub: {\n",
       "          output: function(msg) {\n",
       "            var id = msg.content.text.trim();\n",
       "            if (id in Bokeh.index) {\n",
       "              Bokeh.index[id].model.document.clear();\n",
       "              delete Bokeh.index[id];\n",
       "            }\n",
       "          }\n",
       "        }\n",
       "      });\n",
       "      // Destroy server and session\n",
       "      var cmd = \"import bokeh.io.notebook as ion; ion.destroy_server('\" + server_id + \"')\";\n",
       "      cell.notebook.kernel.execute(cmd);\n",
       "    }\n",
       "  }\n",
       "\n",
       "  /**\n",
       "   * Handle when a new output is added\n",
       "   */\n",
       "  function handleAddOutput(event, handle) {\n",
       "    var output_area = handle.output_area;\n",
       "    var output = handle.output;\n",
       "\n",
       "    // limit handleAddOutput to display_data with EXEC_MIME_TYPE content only\n",
       "    if ((output.output_type != \"display_data\") || (!output.data.hasOwnProperty(EXEC_MIME_TYPE))) {\n",
       "      return\n",
       "    }\n",
       "\n",
       "    var toinsert = output_area.element.find(\".\" + CLASS_NAME.split(' ')[0]);\n",
       "\n",
       "    if (output.metadata[EXEC_MIME_TYPE][\"id\"] !== undefined) {\n",
       "      toinsert[toinsert.length - 1].firstChild.textContent = output.data[JS_MIME_TYPE];\n",
       "      // store reference to embed id on output_area\n",
       "      output_area._bokeh_element_id = output.metadata[EXEC_MIME_TYPE][\"id\"];\n",
       "    }\n",
       "    if (output.metadata[EXEC_MIME_TYPE][\"server_id\"] !== undefined) {\n",
       "      var bk_div = document.createElement(\"div\");\n",
       "      bk_div.innerHTML = output.data[HTML_MIME_TYPE];\n",
       "      var script_attrs = bk_div.children[0].attributes;\n",
       "      for (var i = 0; i < script_attrs.length; i++) {\n",
       "        toinsert[toinsert.length - 1].firstChild.setAttribute(script_attrs[i].name, script_attrs[i].value);\n",
       "      }\n",
       "      // store reference to server id on output_area\n",
       "      output_area._bokeh_server_id = output.metadata[EXEC_MIME_TYPE][\"server_id\"];\n",
       "    }\n",
       "  }\n",
       "\n",
       "  function register_renderer(events, OutputArea) {\n",
       "\n",
       "    function append_mime(data, metadata, element) {\n",
       "      // create a DOM node to render to\n",
       "      var toinsert = this.create_output_subarea(\n",
       "        metadata,\n",
       "        CLASS_NAME,\n",
       "        EXEC_MIME_TYPE\n",
       "      );\n",
       "      this.keyboard_manager.register_events(toinsert);\n",
       "      // Render to node\n",
       "      var props = {data: data, metadata: metadata[EXEC_MIME_TYPE]};\n",
       "      render(props, toinsert[toinsert.length - 1]);\n",
       "      element.append(toinsert);\n",
       "      return toinsert\n",
       "    }\n",
       "\n",
       "    /* Handle when an output is cleared or removed */\n",
       "    events.on('clear_output.CodeCell', handleClearOutput);\n",
       "    events.on('delete.Cell', handleClearOutput);\n",
       "\n",
       "    /* Handle when a new output is added */\n",
       "    events.on('output_added.OutputArea', handleAddOutput);\n",
       "\n",
       "    /**\n",
       "     * Register the mime type and append_mime function with output_area\n",
       "     */\n",
       "    OutputArea.prototype.register_mime_type(EXEC_MIME_TYPE, append_mime, {\n",
       "      /* Is output safe? */\n",
       "      safe: true,\n",
       "      /* Index of renderer in `output_area.display_order` */\n",
       "      index: 0\n",
       "    });\n",
       "  }\n",
       "\n",
       "  // register the mime type if in Jupyter Notebook environment and previously unregistered\n",
       "  if (root.Jupyter !== undefined) {\n",
       "    var events = require('base/js/events');\n",
       "    var OutputArea = require('notebook/js/outputarea').OutputArea;\n",
       "\n",
       "    if (OutputArea.prototype.mime_types().indexOf(EXEC_MIME_TYPE) == -1) {\n",
       "      register_renderer(events, OutputArea);\n",
       "    }\n",
       "  }\n",
       "\n",
       "  \n",
       "  if (typeof (root._bokeh_timeout) === \"undefined\" || force === true) {\n",
       "    root._bokeh_timeout = Date.now() + 5000;\n",
       "    root._bokeh_failed_load = false;\n",
       "  }\n",
       "\n",
       "  var NB_LOAD_WARNING = {'data': {'text/html':\n",
       "     \"<div style='background-color: #fdd'>\\n\"+\n",
       "     \"<p>\\n\"+\n",
       "     \"BokehJS does not appear to have successfully loaded. If loading BokehJS from CDN, this \\n\"+\n",
       "     \"may be due to a slow or bad network connection. Possible fixes:\\n\"+\n",
       "     \"</p>\\n\"+\n",
       "     \"<ul>\\n\"+\n",
       "     \"<li>re-rerun `output_notebook()` to attempt to load from CDN again, or</li>\\n\"+\n",
       "     \"<li>use INLINE resources instead, as so:</li>\\n\"+\n",
       "     \"</ul>\\n\"+\n",
       "     \"<code>\\n\"+\n",
       "     \"from bokeh.resources import INLINE\\n\"+\n",
       "     \"output_notebook(resources=INLINE)\\n\"+\n",
       "     \"</code>\\n\"+\n",
       "     \"</div>\"}};\n",
       "\n",
       "  function display_loaded() {\n",
       "    var el = document.getElementById(\"c2665a03-727d-44a7-8278-8a2a56b6f1fe\");\n",
       "    if (el != null) {\n",
       "      el.textContent = \"BokehJS is loading...\";\n",
       "    }\n",
       "    if (root.Bokeh !== undefined) {\n",
       "      if (el != null) {\n",
       "        el.textContent = \"BokehJS \" + root.Bokeh.version + \" successfully loaded.\";\n",
       "      }\n",
       "    } else if (Date.now() < root._bokeh_timeout) {\n",
       "      setTimeout(display_loaded, 100)\n",
       "    }\n",
       "  }\n",
       "\n",
       "\n",
       "  function run_callbacks() {\n",
       "    try {\n",
       "      root._bokeh_onload_callbacks.forEach(function(callback) { callback() });\n",
       "    }\n",
       "    finally {\n",
       "      delete root._bokeh_onload_callbacks\n",
       "    }\n",
       "    console.info(\"Bokeh: all callbacks have finished\");\n",
       "  }\n",
       "\n",
       "  function load_libs(js_urls, callback) {\n",
       "    root._bokeh_onload_callbacks.push(callback);\n",
       "    if (root._bokeh_is_loading > 0) {\n",
       "      console.log(\"Bokeh: BokehJS is being loaded, scheduling callback at\", now());\n",
       "      return null;\n",
       "    }\n",
       "    if (js_urls == null || js_urls.length === 0) {\n",
       "      run_callbacks();\n",
       "      return null;\n",
       "    }\n",
       "    console.log(\"Bokeh: BokehJS not loaded, scheduling load and callback at\", now());\n",
       "    root._bokeh_is_loading = js_urls.length;\n",
       "    for (var i = 0; i < js_urls.length; i++) {\n",
       "      var url = js_urls[i];\n",
       "      var s = document.createElement('script');\n",
       "      s.src = url;\n",
       "      s.async = false;\n",
       "      s.onreadystatechange = s.onload = function() {\n",
       "        root._bokeh_is_loading--;\n",
       "        if (root._bokeh_is_loading === 0) {\n",
       "          console.log(\"Bokeh: all BokehJS libraries loaded\");\n",
       "          run_callbacks()\n",
       "        }\n",
       "      };\n",
       "      s.onerror = function() {\n",
       "        console.warn(\"failed to load library \" + url);\n",
       "      };\n",
       "      console.log(\"Bokeh: injecting script tag for BokehJS library: \", url);\n",
       "      document.getElementsByTagName(\"head\")[0].appendChild(s);\n",
       "    }\n",
       "  };var element = document.getElementById(\"c2665a03-727d-44a7-8278-8a2a56b6f1fe\");\n",
       "  if (element == null) {\n",
       "    console.log(\"Bokeh: ERROR: autoload.js configured with elementid 'c2665a03-727d-44a7-8278-8a2a56b6f1fe' but no matching script tag was found. \")\n",
       "    return false;\n",
       "  }\n",
       "\n",
       "  var js_urls = [\"https://cdn.pydata.org/bokeh/release/bokeh-0.13.0.min.js\", \"https://cdn.pydata.org/bokeh/release/bokeh-widgets-0.13.0.min.js\", \"https://cdn.pydata.org/bokeh/release/bokeh-tables-0.13.0.min.js\", \"https://cdn.pydata.org/bokeh/release/bokeh-gl-0.13.0.min.js\"];\n",
       "\n",
       "  var inline_js = [\n",
       "    function(Bokeh) {\n",
       "      Bokeh.set_log_level(\"info\");\n",
       "    },\n",
       "    \n",
       "    function(Bokeh) {\n",
       "      \n",
       "    },\n",
       "    function(Bokeh) {\n",
       "      console.log(\"Bokeh: injecting CSS: https://cdn.pydata.org/bokeh/release/bokeh-0.13.0.min.css\");\n",
       "      Bokeh.embed.inject_css(\"https://cdn.pydata.org/bokeh/release/bokeh-0.13.0.min.css\");\n",
       "      console.log(\"Bokeh: injecting CSS: https://cdn.pydata.org/bokeh/release/bokeh-widgets-0.13.0.min.css\");\n",
       "      Bokeh.embed.inject_css(\"https://cdn.pydata.org/bokeh/release/bokeh-widgets-0.13.0.min.css\");\n",
       "      console.log(\"Bokeh: injecting CSS: https://cdn.pydata.org/bokeh/release/bokeh-tables-0.13.0.min.css\");\n",
       "      Bokeh.embed.inject_css(\"https://cdn.pydata.org/bokeh/release/bokeh-tables-0.13.0.min.css\");\n",
       "    }\n",
       "  ];\n",
       "\n",
       "  function run_inline_js() {\n",
       "    \n",
       "    if ((root.Bokeh !== undefined) || (force === true)) {\n",
       "      for (var i = 0; i < inline_js.length; i++) {\n",
       "        inline_js[i].call(root, root.Bokeh);\n",
       "      }if (force === true) {\n",
       "        display_loaded();\n",
       "      }} else if (Date.now() < root._bokeh_timeout) {\n",
       "      setTimeout(run_inline_js, 100);\n",
       "    } else if (!root._bokeh_failed_load) {\n",
       "      console.log(\"Bokeh: BokehJS failed to load within specified timeout.\");\n",
       "      root._bokeh_failed_load = true;\n",
       "    } else if (force !== true) {\n",
       "      var cell = $(document.getElementById(\"c2665a03-727d-44a7-8278-8a2a56b6f1fe\")).parents('.cell').data().cell;\n",
       "      cell.output_area.append_execute_result(NB_LOAD_WARNING)\n",
       "    }\n",
       "\n",
       "  }\n",
       "\n",
       "  if (root._bokeh_is_loading === 0) {\n",
       "    console.log(\"Bokeh: BokehJS loaded, going straight to plotting\");\n",
       "    run_inline_js();\n",
       "  } else {\n",
       "    load_libs(js_urls, function() {\n",
       "      console.log(\"Bokeh: BokehJS plotting callback run at\", now());\n",
       "      run_inline_js();\n",
       "    });\n",
       "  }\n",
       "}(window));"
      ],
      "application/vnd.bokehjs_load.v0+json": "\n(function(root) {\n  function now() {\n    return new Date();\n  }\n\n  var force = true;\n\n  if (typeof (root._bokeh_onload_callbacks) === \"undefined\" || force === true) {\n    root._bokeh_onload_callbacks = [];\n    root._bokeh_is_loading = undefined;\n  }\n\n  \n\n  \n  if (typeof (root._bokeh_timeout) === \"undefined\" || force === true) {\n    root._bokeh_timeout = Date.now() + 5000;\n    root._bokeh_failed_load = false;\n  }\n\n  var NB_LOAD_WARNING = {'data': {'text/html':\n     \"<div style='background-color: #fdd'>\\n\"+\n     \"<p>\\n\"+\n     \"BokehJS does not appear to have successfully loaded. If loading BokehJS from CDN, this \\n\"+\n     \"may be due to a slow or bad network connection. Possible fixes:\\n\"+\n     \"</p>\\n\"+\n     \"<ul>\\n\"+\n     \"<li>re-rerun `output_notebook()` to attempt to load from CDN again, or</li>\\n\"+\n     \"<li>use INLINE resources instead, as so:</li>\\n\"+\n     \"</ul>\\n\"+\n     \"<code>\\n\"+\n     \"from bokeh.resources import INLINE\\n\"+\n     \"output_notebook(resources=INLINE)\\n\"+\n     \"</code>\\n\"+\n     \"</div>\"}};\n\n  function display_loaded() {\n    var el = document.getElementById(\"c2665a03-727d-44a7-8278-8a2a56b6f1fe\");\n    if (el != null) {\n      el.textContent = \"BokehJS is loading...\";\n    }\n    if (root.Bokeh !== undefined) {\n      if (el != null) {\n        el.textContent = \"BokehJS \" + root.Bokeh.version + \" successfully loaded.\";\n      }\n    } else if (Date.now() < root._bokeh_timeout) {\n      setTimeout(display_loaded, 100)\n    }\n  }\n\n\n  function run_callbacks() {\n    try {\n      root._bokeh_onload_callbacks.forEach(function(callback) { callback() });\n    }\n    finally {\n      delete root._bokeh_onload_callbacks\n    }\n    console.info(\"Bokeh: all callbacks have finished\");\n  }\n\n  function load_libs(js_urls, callback) {\n    root._bokeh_onload_callbacks.push(callback);\n    if (root._bokeh_is_loading > 0) {\n      console.log(\"Bokeh: BokehJS is being loaded, scheduling callback at\", now());\n      return null;\n    }\n    if (js_urls == null || js_urls.length === 0) {\n      run_callbacks();\n      return null;\n    }\n    console.log(\"Bokeh: BokehJS not loaded, scheduling load and callback at\", now());\n    root._bokeh_is_loading = js_urls.length;\n    for (var i = 0; i < js_urls.length; i++) {\n      var url = js_urls[i];\n      var s = document.createElement('script');\n      s.src = url;\n      s.async = false;\n      s.onreadystatechange = s.onload = function() {\n        root._bokeh_is_loading--;\n        if (root._bokeh_is_loading === 0) {\n          console.log(\"Bokeh: all BokehJS libraries loaded\");\n          run_callbacks()\n        }\n      };\n      s.onerror = function() {\n        console.warn(\"failed to load library \" + url);\n      };\n      console.log(\"Bokeh: injecting script tag for BokehJS library: \", url);\n      document.getElementsByTagName(\"head\")[0].appendChild(s);\n    }\n  };var element = document.getElementById(\"c2665a03-727d-44a7-8278-8a2a56b6f1fe\");\n  if (element == null) {\n    console.log(\"Bokeh: ERROR: autoload.js configured with elementid 'c2665a03-727d-44a7-8278-8a2a56b6f1fe' but no matching script tag was found. \")\n    return false;\n  }\n\n  var js_urls = [\"https://cdn.pydata.org/bokeh/release/bokeh-0.13.0.min.js\", \"https://cdn.pydata.org/bokeh/release/bokeh-widgets-0.13.0.min.js\", \"https://cdn.pydata.org/bokeh/release/bokeh-tables-0.13.0.min.js\", \"https://cdn.pydata.org/bokeh/release/bokeh-gl-0.13.0.min.js\"];\n\n  var inline_js = [\n    function(Bokeh) {\n      Bokeh.set_log_level(\"info\");\n    },\n    \n    function(Bokeh) {\n      \n    },\n    function(Bokeh) {\n      console.log(\"Bokeh: injecting CSS: https://cdn.pydata.org/bokeh/release/bokeh-0.13.0.min.css\");\n      Bokeh.embed.inject_css(\"https://cdn.pydata.org/bokeh/release/bokeh-0.13.0.min.css\");\n      console.log(\"Bokeh: injecting CSS: https://cdn.pydata.org/bokeh/release/bokeh-widgets-0.13.0.min.css\");\n      Bokeh.embed.inject_css(\"https://cdn.pydata.org/bokeh/release/bokeh-widgets-0.13.0.min.css\");\n      console.log(\"Bokeh: injecting CSS: https://cdn.pydata.org/bokeh/release/bokeh-tables-0.13.0.min.css\");\n      Bokeh.embed.inject_css(\"https://cdn.pydata.org/bokeh/release/bokeh-tables-0.13.0.min.css\");\n    }\n  ];\n\n  function run_inline_js() {\n    \n    if ((root.Bokeh !== undefined) || (force === true)) {\n      for (var i = 0; i < inline_js.length; i++) {\n        inline_js[i].call(root, root.Bokeh);\n      }if (force === true) {\n        display_loaded();\n      }} else if (Date.now() < root._bokeh_timeout) {\n      setTimeout(run_inline_js, 100);\n    } else if (!root._bokeh_failed_load) {\n      console.log(\"Bokeh: BokehJS failed to load within specified timeout.\");\n      root._bokeh_failed_load = true;\n    } else if (force !== true) {\n      var cell = $(document.getElementById(\"c2665a03-727d-44a7-8278-8a2a56b6f1fe\")).parents('.cell').data().cell;\n      cell.output_area.append_execute_result(NB_LOAD_WARNING)\n    }\n\n  }\n\n  if (root._bokeh_is_loading === 0) {\n    console.log(\"Bokeh: BokehJS loaded, going straight to plotting\");\n    run_inline_js();\n  } else {\n    load_libs(js_urls, function() {\n      console.log(\"Bokeh: BokehJS plotting callback run at\", now());\n      run_inline_js();\n    });\n  }\n}(window));"
     },
     "metadata": {},
     "output_type": "display_data"
    },
    {
     "data": {
      "text/html": [
       "\n",
       "\n",
       "\n",
       "\n",
       "\n",
       "\n",
       "  <div class=\"bk-root\" id=\"0216f340-842b-4fbd-8469-e6a2cf883e0c\"></div>\n"
      ]
     },
     "metadata": {},
     "output_type": "display_data"
    },
    {
     "data": {
      "application/javascript": [
       "(function(root) {\n",
       "  function embed_document(root) {\n",
       "    \n",
       "  var docs_json = {\"474187e0-0e11-47ea-9887-ad2395133749\":{\"roots\":{\"references\":[{\"attributes\":{\"callback\":null,\"renderers\":\"auto\",\"tooltips\":[[\"item\",\"@item\"],[\"count\",\"@{count}{,}\"]]},\"id\":\"5085e70f-c9c2-42a7-b91e-b6bbdc258a4c\",\"type\":\"HoverTool\"},{\"attributes\":{},\"id\":\"d6f9723b-5dd6-4f20-b1a5-b6119b09db1e\",\"type\":\"CategoricalScale\"},{\"attributes\":{\"source\":{\"id\":\"76390e23-3fc9-4b65-b793-14739a5d1c31\",\"type\":\"ColumnDataSource\"}},\"id\":\"116d3c25-ea7d-46d3-afe1-7f4d81eb1643\",\"type\":\"CDSView\"},{\"attributes\":{},\"id\":\"8340ec02-a223-4613-afff-ecb833857ed4\",\"type\":\"UnionRenderers\"},{\"attributes\":{\"plot\":{\"id\":\"64e7a0df-62df-48de-b17b-8296ff9a2bc5\",\"subtype\":\"Figure\",\"type\":\"Plot\"},\"ticker\":{\"id\":\"09f72256-b290-420e-8d10-1ed6560da412\",\"type\":\"CategoricalTicker\"}},\"id\":\"5a91cdbf-44e4-42b1-9418-e9ccd8e45949\",\"type\":\"Grid\"},{\"attributes\":{},\"id\":\"cceb5cad-500c-4754-b2d8-5f869ba34090\",\"type\":\"LinearScale\"},{\"attributes\":{\"callback\":null,\"factors\":[\"Coffee\",\"Bread\",\"Tea\",\"Cake\",\"Pastry\",\"Sandwich\",\"Medialuna\",\"Hot chocolate\",\"Cookies\",\"Brownie\"]},\"id\":\"8ff69d81-c6be-4186-84fe-e5da6c2d303c\",\"type\":\"FactorRange\"},{\"attributes\":{\"plot\":null,\"text\":\"Top 10 Barkery Items\"},\"id\":\"05ed1557-8cf3-4000-bee3-4c894b4ae9af\",\"type\":\"Title\"},{\"attributes\":{},\"id\":\"142e9f95-3034-40f4-84f1-e8ef8bd44e15\",\"type\":\"BasicTicker\"},{\"attributes\":{\"axis_label\":\"Total Items Sold\",\"formatter\":{\"id\":\"f36ffc9f-43c8-4e67-9a58-5468189a5a08\",\"type\":\"BasicTickFormatter\"},\"plot\":{\"id\":\"64e7a0df-62df-48de-b17b-8296ff9a2bc5\",\"subtype\":\"Figure\",\"type\":\"Plot\"},\"ticker\":{\"id\":\"142e9f95-3034-40f4-84f1-e8ef8bd44e15\",\"type\":\"BasicTicker\"}},\"id\":\"9406f2e8-0912-4dbf-8104-6bd7e1322da7\",\"type\":\"LinearAxis\"},{\"attributes\":{\"dimension\":1,\"plot\":{\"id\":\"64e7a0df-62df-48de-b17b-8296ff9a2bc5\",\"subtype\":\"Figure\",\"type\":\"Plot\"},\"ticker\":{\"id\":\"142e9f95-3034-40f4-84f1-e8ef8bd44e15\",\"type\":\"BasicTicker\"}},\"id\":\"7c6ff388-bf3d-4b19-8664-9daaf135dcef\",\"type\":\"Grid\"},{\"attributes\":{\"fill_color\":{\"field\":\"item\",\"transform\":{\"id\":\"8e321b96-bd74-449c-9ee6-900c35156692\",\"type\":\"CategoricalColorMapper\"}},\"line_color\":{\"value\":\"#1f77b4\"},\"top\":{\"field\":\"count\"},\"width\":{\"value\":0.9},\"x\":{\"field\":\"item\"}},\"id\":\"7bf4b40d-b53e-46ed-8e24-aeb83dd5bc3e\",\"type\":\"VBar\"},{\"attributes\":{\"bottom_units\":\"screen\",\"fill_alpha\":{\"value\":0.5},\"fill_color\":{\"value\":\"lightgrey\"},\"left_units\":\"screen\",\"level\":\"overlay\",\"line_alpha\":{\"value\":1.0},\"line_color\":{\"value\":\"black\"},\"line_dash\":[4,4],\"line_width\":{\"value\":2},\"plot\":null,\"render_mode\":\"css\",\"right_units\":\"screen\",\"top_units\":\"screen\"},\"id\":\"ce2d7db6-1ec9-4ec7-9c23-02b66c6767d5\",\"type\":\"BoxAnnotation\"},{\"attributes\":{\"callback\":null},\"id\":\"c084d8fa-7d0d-4849-bc0b-7191d0e86d04\",\"type\":\"DataRange1d\"},{\"attributes\":{\"active_drag\":\"auto\",\"active_inspect\":\"auto\",\"active_multi\":null,\"active_scroll\":\"auto\",\"active_tap\":\"auto\",\"tools\":[{\"id\":\"041200cf-7d45-467a-9700-7e2c51f5e5a3\",\"type\":\"PanTool\"},{\"id\":\"e2df1f34-ea32-469e-91e7-d424e77466ea\",\"type\":\"WheelZoomTool\"},{\"id\":\"c4df4506-2302-46ec-a1d7-504c2f6970f9\",\"type\":\"BoxZoomTool\"},{\"id\":\"18b65617-9c03-4e9d-961b-5fa33fe8eecc\",\"type\":\"SaveTool\"},{\"id\":\"2ffe9b58-a466-43c0-af35-821cc2e49be9\",\"type\":\"ResetTool\"},{\"id\":\"5ac169b3-d2ab-487a-806a-8839c6100aa4\",\"type\":\"HelpTool\"},{\"id\":\"5085e70f-c9c2-42a7-b91e-b6bbdc258a4c\",\"type\":\"HoverTool\"}]},\"id\":\"1dd2c5ab-3606-4b6d-801a-8694932fc430\",\"type\":\"Toolbar\"},{\"attributes\":{},\"id\":\"955fc789-d55d-4d69-bdcb-8fcf63328ce6\",\"type\":\"CategoricalTickFormatter\"},{\"attributes\":{\"fill_alpha\":{\"value\":0.1},\"fill_color\":{\"value\":\"#1f77b4\"},\"line_alpha\":{\"value\":0.1},\"line_color\":{\"value\":\"#1f77b4\"},\"top\":{\"field\":\"count\"},\"width\":{\"value\":0.9},\"x\":{\"field\":\"item\"}},\"id\":\"3afced2c-cfb8-44a9-911f-18369746c451\",\"type\":\"VBar\"},{\"attributes\":{\"factors\":[\"Coffee\",\"Bread\",\"Tea\",\"Cake\",\"Pastry\",\"Sandwich\",\"Medialuna\",\"Hot chocolate\",\"Cookies\",\"Brownie\"],\"palette\":[\"#a6cee3\",\"#1f78b4\",\"#b2df8a\",\"#33a02c\",\"#fb9a99\",\"#e31a1c\",\"#fdbf6f\",\"#ff7f00\",\"#cab2d6\",\"#6a3d9a\",\"#ffff99\",\"#b15928\"]},\"id\":\"8e321b96-bd74-449c-9ee6-900c35156692\",\"type\":\"CategoricalColorMapper\"},{\"attributes\":{},\"id\":\"2ffe9b58-a466-43c0-af35-821cc2e49be9\",\"type\":\"ResetTool\"},{\"attributes\":{},\"id\":\"041200cf-7d45-467a-9700-7e2c51f5e5a3\",\"type\":\"PanTool\"},{\"attributes\":{\"data_source\":{\"id\":\"76390e23-3fc9-4b65-b793-14739a5d1c31\",\"type\":\"ColumnDataSource\"},\"glyph\":{\"id\":\"7bf4b40d-b53e-46ed-8e24-aeb83dd5bc3e\",\"type\":\"VBar\"},\"hover_glyph\":null,\"muted_glyph\":null,\"nonselection_glyph\":{\"id\":\"3afced2c-cfb8-44a9-911f-18369746c451\",\"type\":\"VBar\"},\"selection_glyph\":null,\"view\":{\"id\":\"116d3c25-ea7d-46d3-afe1-7f4d81eb1643\",\"type\":\"CDSView\"}},\"id\":\"0b3956db-0c25-43dc-98ed-f50fe7495af4\",\"type\":\"GlyphRenderer\"},{\"attributes\":{\"below\":[{\"id\":\"d4e556c1-5aaa-4825-a17e-2546099d6890\",\"type\":\"CategoricalAxis\"}],\"left\":[{\"id\":\"9406f2e8-0912-4dbf-8104-6bd7e1322da7\",\"type\":\"LinearAxis\"}],\"min_border\":0,\"plot_height\":375,\"plot_width\":750,\"renderers\":[{\"id\":\"d4e556c1-5aaa-4825-a17e-2546099d6890\",\"type\":\"CategoricalAxis\"},{\"id\":\"5a91cdbf-44e4-42b1-9418-e9ccd8e45949\",\"type\":\"Grid\"},{\"id\":\"9406f2e8-0912-4dbf-8104-6bd7e1322da7\",\"type\":\"LinearAxis\"},{\"id\":\"7c6ff388-bf3d-4b19-8664-9daaf135dcef\",\"type\":\"Grid\"},{\"id\":\"ce2d7db6-1ec9-4ec7-9c23-02b66c6767d5\",\"type\":\"BoxAnnotation\"},{\"id\":\"0b3956db-0c25-43dc-98ed-f50fe7495af4\",\"type\":\"GlyphRenderer\"}],\"title\":{\"id\":\"05ed1557-8cf3-4000-bee3-4c894b4ae9af\",\"type\":\"Title\"},\"toolbar\":{\"id\":\"1dd2c5ab-3606-4b6d-801a-8694932fc430\",\"type\":\"Toolbar\"},\"x_range\":{\"id\":\"8ff69d81-c6be-4186-84fe-e5da6c2d303c\",\"type\":\"FactorRange\"},\"x_scale\":{\"id\":\"d6f9723b-5dd6-4f20-b1a5-b6119b09db1e\",\"type\":\"CategoricalScale\"},\"y_range\":{\"id\":\"c084d8fa-7d0d-4849-bc0b-7191d0e86d04\",\"type\":\"DataRange1d\"},\"y_scale\":{\"id\":\"cceb5cad-500c-4754-b2d8-5f869ba34090\",\"type\":\"LinearScale\"}},\"id\":\"64e7a0df-62df-48de-b17b-8296ff9a2bc5\",\"subtype\":\"Figure\",\"type\":\"Plot\"},{\"attributes\":{},\"id\":\"c3e57957-e06d-470d-9215-0daa432148ef\",\"type\":\"Selection\"},{\"attributes\":{},\"id\":\"e2df1f34-ea32-469e-91e7-d424e77466ea\",\"type\":\"WheelZoomTool\"},{\"attributes\":{},\"id\":\"09f72256-b290-420e-8d10-1ed6560da412\",\"type\":\"CategoricalTicker\"},{\"attributes\":{\"overlay\":{\"id\":\"ce2d7db6-1ec9-4ec7-9c23-02b66c6767d5\",\"type\":\"BoxAnnotation\"}},\"id\":\"c4df4506-2302-46ec-a1d7-504c2f6970f9\",\"type\":\"BoxZoomTool\"},{\"attributes\":{},\"id\":\"18b65617-9c03-4e9d-961b-5fa33fe8eecc\",\"type\":\"SaveTool\"},{\"attributes\":{\"axis_label\":\"Bakery Items\",\"formatter\":{\"id\":\"955fc789-d55d-4d69-bdcb-8fcf63328ce6\",\"type\":\"CategoricalTickFormatter\"},\"plot\":{\"id\":\"64e7a0df-62df-48de-b17b-8296ff9a2bc5\",\"subtype\":\"Figure\",\"type\":\"Plot\"},\"ticker\":{\"id\":\"09f72256-b290-420e-8d10-1ed6560da412\",\"type\":\"CategoricalTicker\"}},\"id\":\"d4e556c1-5aaa-4825-a17e-2546099d6890\",\"type\":\"CategoricalAxis\"},{\"attributes\":{\"callback\":null,\"data\":{\"count\":[5471,3326,1435,1025,857,771,616,591,540,379],\"index\":[0,1,2,3,4,5,6,7,8,9],\"item\":[\"Coffee\",\"Bread\",\"Tea\",\"Cake\",\"Pastry\",\"Sandwich\",\"Medialuna\",\"Hot chocolate\",\"Cookies\",\"Brownie\"]},\"selected\":{\"id\":\"c3e57957-e06d-470d-9215-0daa432148ef\",\"type\":\"Selection\"},\"selection_policy\":{\"id\":\"8340ec02-a223-4613-afff-ecb833857ed4\",\"type\":\"UnionRenderers\"}},\"id\":\"76390e23-3fc9-4b65-b793-14739a5d1c31\",\"type\":\"ColumnDataSource\"},{\"attributes\":{},\"id\":\"f36ffc9f-43c8-4e67-9a58-5468189a5a08\",\"type\":\"BasicTickFormatter\"},{\"attributes\":{},\"id\":\"5ac169b3-d2ab-487a-806a-8839c6100aa4\",\"type\":\"HelpTool\"}],\"root_ids\":[\"64e7a0df-62df-48de-b17b-8296ff9a2bc5\"]},\"title\":\"Bokeh Application\",\"version\":\"0.13.0\"}};\n",
       "  var render_items = [{\"docid\":\"474187e0-0e11-47ea-9887-ad2395133749\",\"roots\":{\"64e7a0df-62df-48de-b17b-8296ff9a2bc5\":\"0216f340-842b-4fbd-8469-e6a2cf883e0c\"}}];\n",
       "  root.Bokeh.embed.embed_items_notebook(docs_json, render_items);\n",
       "\n",
       "  }\n",
       "  if (root.Bokeh !== undefined) {\n",
       "    embed_document(root);\n",
       "  } else {\n",
       "    var attempts = 0;\n",
       "    var timer = setInterval(function(root) {\n",
       "      if (root.Bokeh !== undefined) {\n",
       "        embed_document(root);\n",
       "        clearInterval(timer);\n",
       "      }\n",
       "      attempts++;\n",
       "      if (attempts > 100) {\n",
       "        console.log(\"Bokeh: ERROR: Unable to run BokehJS code because BokehJS library is missing\")\n",
       "        clearInterval(timer);\n",
       "      }\n",
       "    }, 10, root)\n",
       "  }\n",
       "})(window);"
      ],
      "application/vnd.bokehjs_exec.v0+json": ""
     },
     "metadata": {
      "application/vnd.bokehjs_exec.v0+json": {
       "id": "64e7a0df-62df-48de-b17b-8296ff9a2bc5"
      }
     },
     "output_type": "display_data"
    }
   ],
   "source": [
    "from bokeh.io import output_notebook, show\n",
    "from bokeh.plotting import figure\n",
    "from bokeh.models import ColumnDataSource\n",
    "from bokeh.transform import factor_cmap\n",
    "from bokeh.palettes import Paired12\n",
    "\n",
    "output_notebook()\n",
    "\n",
    "source = ColumnDataSource(data=df5.toPandas())\n",
    "\n",
    "tooltips = [('item', '@item'), ('count', '@{count}{,}')]\n",
    "\n",
    "items = source.data['item'].tolist()\n",
    "color_map = factor_cmap(field_name='item', palette=Paired12, factors=items)\n",
    "plot = figure(x_range=items, plot_width=750, plot_height=375, min_border=0, tooltips=tooltips)\n",
    "plot.vbar(x='item', bottom=0, top='count', source=source, width=0.9, fill_color=color_map)\n",
    "plot.title.text = 'Top 10 Barkery Items'\n",
    "plot.xaxis.axis_label = 'Bakery Items'\n",
    "plot.yaxis.axis_label = 'Total Items Sold'\n",
    "\n",
    "show(plot)"
   ]
  },
  {
   "cell_type": "code",
   "execution_count": 17,
   "metadata": {},
   "outputs": [
    {
     "name": "stdout",
     "output_type": "stream",
     "text": [
      "+-------------------+-----------+-------------+\n",
      "|          timestamp|transaction|         item|\n",
      "+-------------------+-----------+-------------+\n",
      "|2016-10-30 09:58:11|          1|        Bread|\n",
      "|2016-10-30 09:58:11|          1|        Bread|\n",
      "|2016-10-30 10:05:34|          2| Scandinavian|\n",
      "|2016-10-30 10:05:34|          2| Scandinavian|\n",
      "|2016-10-30 10:13:27|          2|       Pastry|\n",
      "|2016-10-30 10:05:34|          2| Scandinavian|\n",
      "|2016-10-30 10:07:57|          3|Hot chocolate|\n",
      "|2016-10-30 10:07:57|          3|          Jam|\n",
      "|2016-10-30 10:07:57|          3|Hot chocolate|\n",
      "|2016-10-30 10:07:57|          3|      Cookies|\n",
      "+-------------------+-----------+-------------+\n",
      "only showing top 10 rows\n",
      "\n"
     ]
    },
    {
     "data": {
      "text/plain": [
       "20511"
      ]
     },
     "execution_count": 17,
     "metadata": {},
     "output_type": "execute_result"
    }
   ],
   "source": [
    "df6 = spark.sql(\"SELECT CONCAT(date,' ',time) as timestamp, transaction, item \" +\n",
    "                \"FROM bakery_table \" +\n",
    "                \"WHERE item NOT LIKE 'NONE'\" +\n",
    "                \"ORDER BY transaction\"\n",
    "               )\n",
    "df6.show(10)\n",
    "df6.count()"
   ]
  },
  {
   "cell_type": "code",
   "execution_count": 18,
   "metadata": {},
   "outputs": [
    {
     "name": "stdout",
     "output_type": "stream",
     "text": [
      "root\n",
      " |-- timestamp: timestamp (nullable = true)\n",
      " |-- transaction: integer (nullable = true)\n",
      " |-- item: string (nullable = true)\n",
      "\n",
      "+-------------------+-----------+-------------+\n",
      "|          timestamp|transaction|         item|\n",
      "+-------------------+-----------+-------------+\n",
      "|2016-10-30 09:58:11|          1|        Bread|\n",
      "|2016-10-30 09:58:11|          1|        Bread|\n",
      "|2016-10-30 10:05:34|          2| Scandinavian|\n",
      "|2016-10-30 10:05:34|          2| Scandinavian|\n",
      "|2016-10-30 10:13:27|          2|       Pastry|\n",
      "|2016-10-30 10:05:34|          2| Scandinavian|\n",
      "|2016-10-30 10:07:57|          3|Hot chocolate|\n",
      "|2016-10-30 10:07:57|          3|          Jam|\n",
      "|2016-10-30 10:07:57|          3|Hot chocolate|\n",
      "|2016-10-30 10:07:57|          3|      Cookies|\n",
      "+-------------------+-----------+-------------+\n",
      "only showing top 10 rows\n",
      "\n"
     ]
    },
    {
     "data": {
      "text/plain": [
       "20511"
      ]
     },
     "execution_count": 18,
     "metadata": {},
     "output_type": "execute_result"
    }
   ],
   "source": [
    "df7 = df6.withColumn('timestamp', to_timestamp(df6.timestamp, 'yyyy-MM-dd HH:mm:ss'))\n",
    "df7.printSchema()\n",
    "df7.show(10)\n",
    "df7.count()"
   ]
  },
  {
   "cell_type": "code",
   "execution_count": 19,
   "metadata": {},
   "outputs": [
    {
     "name": "stdout",
     "output_type": "stream",
     "text": [
      "+-------------------+-----------+--------------+\n",
      "|          timestamp|transaction|          item|\n",
      "+-------------------+-----------+--------------+\n",
      "|2017-04-09 15:04:24|       9684|     Smoothies|\n",
      "|2017-04-09 14:57:06|       9683|        Pastry|\n",
      "|2017-04-09 14:57:06|       9683|        Coffee|\n",
      "|2017-04-09 14:32:58|       9682|           Tea|\n",
      "|2017-04-09 14:32:58|       9682|  Tacos/Fajita|\n",
      "|2017-04-09 14:32:58|       9682|        Muffin|\n",
      "|2017-04-09 14:32:58|       9682|        Coffee|\n",
      "|2017-04-09 14:30:09|       9681|Spanish Brunch|\n",
      "|2017-04-09 14:30:09|       9681|      Truffles|\n",
      "|2017-04-09 14:30:09|       9681|           Tea|\n",
      "+-------------------+-----------+--------------+\n",
      "only showing top 10 rows\n",
      "\n"
     ]
    },
    {
     "data": {
      "text/plain": [
       "18888"
      ]
     },
     "execution_count": 19,
     "metadata": {},
     "output_type": "execute_result"
    }
   ],
   "source": [
    "df7.createOrReplaceTempView(\"bakery_table\")\n",
    "df8 = spark.sql(\"SELECT DISTINCT * \" +\n",
    "                \"FROM bakery_table \" +\n",
    "                \"WHERE item NOT LIKE 'NONE'\" +\n",
    "                \"ORDER BY transaction DESC\"\n",
    "                )\n",
    "df8.show(10)\n",
    "df8.count()\n"
   ]
  },
  {
   "cell_type": "markdown",
   "metadata": {},
   "source": [
    "### Read and Write Data to Parquet Format\n",
    "Read and write DataFrame data to Parquet format files"
   ]
  },
  {
   "cell_type": "code",
   "execution_count": 20,
   "metadata": {},
   "outputs": [],
   "source": [
    "df8.write.parquet('output/bakery_parquet', mode='overwrite')"
   ]
  },
  {
   "cell_type": "code",
   "execution_count": 21,
   "metadata": {},
   "outputs": [
    {
     "name": "stdout",
     "output_type": "stream",
     "text": [
      "+-------------------+-----------+---------+\n",
      "|          timestamp|transaction|     item|\n",
      "+-------------------+-----------+---------+\n",
      "|2017-02-15 14:54:25|       6620|     Cake|\n",
      "|2017-02-15 14:41:27|       6619|    Bread|\n",
      "|2017-02-15 14:40:41|       6618|   Coffee|\n",
      "|2017-02-15 14:40:41|       6618|    Bread|\n",
      "|2017-02-15 14:23:16|       6617| Baguette|\n",
      "|2017-02-15 14:23:16|       6617|   Coffee|\n",
      "|2017-02-15 14:23:16|       6617|    Salad|\n",
      "|2017-02-15 14:23:16|       6617| Art Tray|\n",
      "|2017-02-15 14:23:16|       6617|Alfajores|\n",
      "|2017-02-15 14:16:26|       6616|    Bread|\n",
      "+-------------------+-----------+---------+\n",
      "only showing top 10 rows\n",
      "\n"
     ]
    },
    {
     "data": {
      "text/plain": [
       "18888"
      ]
     },
     "execution_count": 21,
     "metadata": {},
     "output_type": "execute_result"
    }
   ],
   "source": [
    "df9 = spark.read.parquet('output/bakery_parquet')\n",
    "df9.show(10)\n",
    "df9.count()"
   ]
  }
 ],
 "metadata": {
  "kernelspec": {
   "display_name": "Python 3",
   "language": "python",
   "name": "python3"
  },
  "language_info": {
   "codemirror_mode": {
    "name": "ipython",
    "version": 3
   },
   "file_extension": ".py",
   "mimetype": "text/x-python",
   "name": "python",
   "nbconvert_exporter": "python",
   "pygments_lexer": "ipython3",
   "version": "3.6.6"
  }
 },
 "nbformat": 4,
 "nbformat_minor": 2
}

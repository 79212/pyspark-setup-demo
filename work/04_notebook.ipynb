{
 "cells": [
  {
   "cell_type": "markdown",
   "metadata": {},
   "source": [
    "# PySpark Demo Notebook\n",
    "## Demo\n",
    "1. Run PostgreSQL Script\n",
    "2. Load PostgreSQL Data\n",
    "3. Create New Record\n",
    "4. Append New Record to Database Table\n",
    "5. Load CSV Data File\n",
    "6. Overwrite Data to Database Table\n",
    "7. Analyze Data with Spark SQL\n",
    "8. Graph Data with BokehJS\n",
    "9. Read and Write Data to Parquet Format\n",
    "\n",
    "_Prepared by: [Gary A. Stafford](https://twitter.com/GaryStafford)   \n",
    "Associated article: https://wp.me/p1RD28-61V_"
   ]
  },
  {
   "cell_type": "markdown",
   "metadata": {},
   "source": [
    "## Run PostgreSQL Script\n",
    "Run the sql script to create the database schema and import data from CSV file."
   ]
  },
  {
   "cell_type": "code",
   "execution_count": 1,
   "metadata": {
    "pycharm": {
     "is_executing": false
    }
   },
   "outputs": [
    {
     "name": "stdout",
     "output_type": "stream",
     "text": [
      "DROP TABLE IF EXISTS \"transactions\"\n",
      "\n",
      "DROP SEQUENCE IF EXISTS transactions_id_seq\n",
      "\n",
      "CREATE SEQUENCE transactions_id_seq INCREMENT 1 MINVALUE 1 MAXVALUE 2147483647 START 1 CACHE 1\n",
      "\n",
      "\n",
      "CREATE TABLE \"public\".\"transactions\"\n",
      "(\n",
      "    \"id\"          integer DEFAULT nextval('transactions_id_seq') NOT NULL,\n",
      "    \"date\"        character varying(10)                           NOT NULL,\n",
      "    \"time\"        character varying(8)                            NOT NULL,\n",
      "    \"transaction\" integer                                         NOT NULL,\n",
      "    \"item\"        character varying(50)                           NOT NULL\n",
      ") WITH (oids = false)\n",
      "\n",
      "Row count: 21293\n"
     ]
    }
   ],
   "source": [
    "%run -i '03_load_sql.py'"
   ]
  },
  {
   "cell_type": "markdown",
   "metadata": {},
   "source": [
    "## Load PostgreSQL Data\n",
    "Load the PostgreSQL 'transactions' table's contents into a Spark DataFrame."
   ]
  },
  {
   "cell_type": "code",
   "execution_count": 2,
   "metadata": {
    "pycharm": {
     "is_executing": false
    }
   },
   "outputs": [],
   "source": [
    "from pyspark.sql import SparkSession\n",
    "from pyspark.sql.types import StructType, StructField, StringType, IntegerType"
   ]
  },
  {
   "cell_type": "code",
   "execution_count": 3,
   "metadata": {
    "pycharm": {
     "is_executing": false
    }
   },
   "outputs": [],
   "source": [
    "spark = SparkSession \\\n",
    "    .builder \\\n",
    "    .appName('04_notebook') \\\n",
    "    .config('spark.driver.extraClassPath',\n",
    "            'postgresql-42.2.8.jar') \\\n",
    "    .getOrCreate()"
   ]
  },
  {
   "cell_type": "code",
   "execution_count": 4,
   "metadata": {
    "pycharm": {
     "is_executing": false
    }
   },
   "outputs": [],
   "source": [
    "properties = {\n",
    "    'driver': 'org.postgresql.Driver',\n",
    "    'url': 'jdbc:postgresql://postgres:5432/bakery',\n",
    "    'user': 'postgres',\n",
    "    'password': 'postgres1234',\n",
    "    'dbtable': 'transactions',\n",
    "}"
   ]
  },
  {
   "cell_type": "code",
   "execution_count": 5,
   "metadata": {
    "pycharm": {
     "is_executing": false
    }
   },
   "outputs": [],
   "source": [
    "df1 = spark.read \\\n",
    "    .format('jdbc') \\\n",
    "    .option('driver', properties['driver']) \\\n",
    "    .option('url', properties['url']) \\\n",
    "    .option('user', properties['user']) \\\n",
    "    .option('password', properties['password']) \\\n",
    "    .option('dbtable', properties['dbtable']) \\\n",
    "    .load()"
   ]
  },
  {
   "cell_type": "code",
   "execution_count": 6,
   "metadata": {
    "pycharm": {
     "is_executing": false
    },
    "scrolled": true
   },
   "outputs": [
    {
     "name": "stdout",
     "output_type": "stream",
     "text": [
      "DataFrame rows: 21293\n",
      "DataFrame schema: DataFrame[id: int, date: string, time: string, transaction: int, item: string]\n",
      "+---+----------+--------+-----------+-------------+\n",
      "|id |date      |time    |transaction|item         |\n",
      "+---+----------+--------+-----------+-------------+\n",
      "|1  |2016-10-30|09:58:11|1          |Bread        |\n",
      "|2  |2016-10-30|10:05:34|2          |Scandinavian |\n",
      "|3  |2016-10-30|10:05:34|2          |Scandinavian |\n",
      "|4  |2016-10-30|10:07:57|3          |Hot chocolate|\n",
      "|5  |2016-10-30|10:07:57|3          |Jam          |\n",
      "|6  |2016-10-30|10:07:57|3          |Cookies      |\n",
      "|7  |2016-10-30|10:08:41|4          |Muffin       |\n",
      "|8  |2016-10-30|10:13:03|5          |Coffee       |\n",
      "|9  |2016-10-30|10:13:03|5          |Pastry       |\n",
      "|10 |2016-10-30|10:13:03|5          |Bread        |\n",
      "+---+----------+--------+-----------+-------------+\n",
      "only showing top 10 rows\n",
      "\n",
      "CPU times: user 0 ns, sys: 0 ns, total: 0 ns\n",
      "Wall time: 3.06 s\n"
     ]
    }
   ],
   "source": [
    "%%time\n",
    "print('DataFrame rows: %d' % df1.count())\n",
    "print('DataFrame schema: %s' % df1)\n",
    "df1.show(10, False)"
   ]
  },
  {
   "cell_type": "markdown",
   "metadata": {},
   "source": [
    "## Create a New Record\n",
    "Create a new bakery record and load into a Spark DataFrame."
   ]
  },
  {
   "cell_type": "code",
   "execution_count": 7,
   "metadata": {
    "pycharm": {
     "is_executing": false
    }
   },
   "outputs": [],
   "source": [
    "bakery_schema = StructType([\n",
    "    StructField('date', StringType(), True),\n",
    "    StructField('time', StringType(), True),\n",
    "    StructField('transaction', IntegerType(), True),\n",
    "    StructField('item', StringType(), True)\n",
    "])"
   ]
  },
  {
   "cell_type": "code",
   "execution_count": 8,
   "metadata": {
    "pycharm": {
     "is_executing": false
    }
   },
   "outputs": [],
   "source": [
    "data = [('2016-10-30', '10:13:27', 2, 'Pastry')]\n",
    "df2 = spark.createDataFrame(data, bakery_schema)"
   ]
  },
  {
   "cell_type": "code",
   "execution_count": 9,
   "metadata": {
    "pycharm": {
     "is_executing": false
    }
   },
   "outputs": [
    {
     "name": "stdout",
     "output_type": "stream",
     "text": [
      "DataFrame rows: 1\n",
      "DataFrame schema: DataFrame[date: string, time: string, transaction: int, item: string]\n",
      "+----------+--------+-----------+------+\n",
      "|date      |time    |transaction|item  |\n",
      "+----------+--------+-----------+------+\n",
      "|2016-10-30|10:13:27|2          |Pastry|\n",
      "+----------+--------+-----------+------+\n",
      "\n"
     ]
    }
   ],
   "source": [
    "print('DataFrame rows: %d' % df2.count())\n",
    "print('DataFrame schema: %s' % df2)\n",
    "df2.show(10, False)"
   ]
  },
  {
   "cell_type": "markdown",
   "metadata": {},
   "source": [
    "## Append New Record to Database Table\n",
    "Append the contents of the DataFrame to the bakery PostgreSQL database's 'transactions' table."
   ]
  },
  {
   "cell_type": "code",
   "execution_count": 10,
   "metadata": {
    "pycharm": {
     "is_executing": false
    }
   },
   "outputs": [],
   "source": [
    "df2.write \\\n",
    "    .format('jdbc') \\\n",
    "    .option('driver', properties['driver']) \\\n",
    "    .option('url', properties['url']) \\\n",
    "    .option('user', properties['user']) \\\n",
    "    .option('password', properties['password']) \\\n",
    "    .option('dbtable', properties['dbtable']) \\\n",
    "    .mode('append') \\\n",
    "    .save()"
   ]
  },
  {
   "cell_type": "code",
   "execution_count": 11,
   "metadata": {
    "pycharm": {
     "is_executing": false
    }
   },
   "outputs": [
    {
     "name": "stdout",
     "output_type": "stream",
     "text": [
      "DataFrame rows: 21294\n"
     ]
    }
   ],
   "source": [
    "print('DataFrame rows: %d' % df1.count())"
   ]
  },
  {
   "cell_type": "markdown",
   "metadata": {},
   "source": [
    "## Read CSV-Format File\n",
    "Read CSV-format data file into a Spark DataFrame."
   ]
  },
  {
   "cell_type": "code",
   "execution_count": 12,
   "metadata": {
    "pycharm": {
     "is_executing": false
    }
   },
   "outputs": [],
   "source": [
    "df3 = spark.read \\\n",
    "        .format('csv') \\\n",
    "        .option('header', 'true') \\\n",
    "        .load('BreadBasket_DMS.csv', schema=bakery_schema)"
   ]
  },
  {
   "cell_type": "code",
   "execution_count": 13,
   "metadata": {
    "pycharm": {
     "is_executing": false
    }
   },
   "outputs": [
    {
     "name": "stdout",
     "output_type": "stream",
     "text": [
      "DataFrame rows: 21293\n",
      "DataFrame schema: DataFrame[date: string, time: string, transaction: int, item: string]\n",
      "+----------+--------+-----------+-------------+\n",
      "|date      |time    |transaction|item         |\n",
      "+----------+--------+-----------+-------------+\n",
      "|2016-10-30|09:58:11|1          |Bread        |\n",
      "|2016-10-30|10:05:34|2          |Scandinavian |\n",
      "|2016-10-30|10:05:34|2          |Scandinavian |\n",
      "|2016-10-30|10:07:57|3          |Hot chocolate|\n",
      "|2016-10-30|10:07:57|3          |Jam          |\n",
      "|2016-10-30|10:07:57|3          |Cookies      |\n",
      "|2016-10-30|10:08:41|4          |Muffin       |\n",
      "|2016-10-30|10:13:03|5          |Coffee       |\n",
      "|2016-10-30|10:13:03|5          |Pastry       |\n",
      "|2016-10-30|10:13:03|5          |Bread        |\n",
      "+----------+--------+-----------+-------------+\n",
      "only showing top 10 rows\n",
      "\n"
     ]
    }
   ],
   "source": [
    "print('DataFrame rows: %d' % df3.count())\n",
    "print('DataFrame schema: %s' % df3)\n",
    "df3.show(10, False)"
   ]
  },
  {
   "cell_type": "markdown",
   "metadata": {},
   "source": [
    "## Overwrite Data to Database Table\n",
    "Overwrite the contents of the DataFrame to the 'transactions' table."
   ]
  },
  {
   "cell_type": "code",
   "execution_count": 14,
   "metadata": {
    "pycharm": {
     "is_executing": false
    }
   },
   "outputs": [],
   "source": [
    "df3.write \\\n",
    "    .format('jdbc') \\\n",
    "    .option('driver', properties['driver']) \\\n",
    "    .option('url', properties['url']) \\\n",
    "    .option('user', properties['user']) \\\n",
    "    .option('password', properties['password']) \\\n",
    "    .option('dbtable', properties['dbtable']) \\\n",
    "    .option('truncate', 'true') \\\n",
    "    .mode('overwrite') \\\n",
    "    .save()"
   ]
  },
  {
   "cell_type": "code",
   "execution_count": 15,
   "metadata": {
    "pycharm": {
     "is_executing": false
    }
   },
   "outputs": [
    {
     "name": "stdout",
     "output_type": "stream",
     "text": [
      "DataFrame rows: 21293\n",
      "DataFrame schema: DataFrame[id: int, date: string, time: string, transaction: int, item: string]\n",
      "+-----+----------+--------+-----------+-------------+\n",
      "|id   |date      |time    |transaction|item         |\n",
      "+-----+----------+--------+-----------+-------------+\n",
      "|21295|2016-10-30|09:58:11|1          |Bread        |\n",
      "|21296|2016-10-30|10:05:34|2          |Scandinavian |\n",
      "|21297|2016-10-30|10:05:34|2          |Scandinavian |\n",
      "|21298|2016-10-30|10:07:57|3          |Hot chocolate|\n",
      "|21299|2016-10-30|10:07:57|3          |Jam          |\n",
      "|21300|2016-10-30|10:07:57|3          |Cookies      |\n",
      "|21301|2016-10-30|10:08:41|4          |Muffin       |\n",
      "|21302|2016-10-30|10:13:03|5          |Coffee       |\n",
      "|21303|2016-10-30|10:13:03|5          |Pastry       |\n",
      "|21304|2016-10-30|10:13:03|5          |Bread        |\n",
      "+-----+----------+--------+-----------+-------------+\n",
      "only showing top 10 rows\n",
      "\n"
     ]
    }
   ],
   "source": [
    "print('DataFrame rows: %d' % df1.count())\n",
    "print('DataFrame schema: %s' % df1)\n",
    "df1.show(10, False)"
   ]
  },
  {
   "cell_type": "markdown",
   "metadata": {},
   "source": [
    "## Analyze Data with Spark SQL\n",
    "Perform some basic analysis of the DataFrame's bakery data using Spark SQL."
   ]
  },
  {
   "cell_type": "code",
   "execution_count": 16,
   "metadata": {
    "pycharm": {
     "is_executing": false
    }
   },
   "outputs": [
    {
     "name": "stdout",
     "output_type": "stream",
     "text": [
      "DataFrame rows: 21293\n",
      "+-----+----------+--------+-----------+-------------+\n",
      "|id   |date      |time    |transaction|item         |\n",
      "+-----+----------+--------+-----------+-------------+\n",
      "|21295|2016-10-30|09:58:11|1          |Bread        |\n",
      "|21297|2016-10-30|10:05:34|2          |Scandinavian |\n",
      "|21296|2016-10-30|10:05:34|2          |Scandinavian |\n",
      "|21298|2016-10-30|10:07:57|3          |Hot chocolate|\n",
      "|21300|2016-10-30|10:07:57|3          |Cookies      |\n",
      "|21299|2016-10-30|10:07:57|3          |Jam          |\n",
      "|21301|2016-10-30|10:08:41|4          |Muffin       |\n",
      "|21302|2016-10-30|10:13:03|5          |Coffee       |\n",
      "|21303|2016-10-30|10:13:03|5          |Pastry       |\n",
      "|21304|2016-10-30|10:13:03|5          |Bread        |\n",
      "+-----+----------+--------+-----------+-------------+\n",
      "only showing top 10 rows\n",
      "\n"
     ]
    }
   ],
   "source": [
    "df4 = df1.select('*') \\\n",
    "    .sort(df1.transaction, df1.date, df1.time)\n",
    "\n",
    "print('DataFrame rows: %d' % df4.count())\n",
    "df4.show(10, False)"
   ]
  },
  {
   "cell_type": "code",
   "execution_count": 17,
   "metadata": {
    "pycharm": {
     "is_executing": false
    }
   },
   "outputs": [
    {
     "name": "stdout",
     "output_type": "stream",
     "text": [
      "+-------------+-----+\n",
      "|item         |count|\n",
      "+-------------+-----+\n",
      "|Coffee       |5471 |\n",
      "|Bread        |3325 |\n",
      "|Tea          |1435 |\n",
      "|Cake         |1025 |\n",
      "|Pastry       |856  |\n",
      "|Sandwich     |771  |\n",
      "|Medialuna    |616  |\n",
      "|Hot chocolate|590  |\n",
      "|Cookies      |540  |\n",
      "|Brownie      |379  |\n",
      "+-------------+-----+\n",
      "\n"
     ]
    }
   ],
   "source": [
    "df4.createOrReplaceTempView('tmp_bakery')\n",
    "sql_query = \"SELECT item, count(*) as count \" + \\\n",
    "            \"FROM tmp_bakery \" + \\\n",
    "            \"WHERE item NOT LIKE 'NONE' \" + \\\n",
    "            \"GROUP BY item ORDER BY count DESC \" + \\\n",
    "            \"LIMIT 10\"\n",
    "\n",
    "df5 = spark.sql(sql_query)\n",
    "df5.show(10, False)"
   ]
  },
  {
   "cell_type": "markdown",
   "metadata": {},
   "source": [
    "## Graph Data with BokehJS\n",
    "Create a vertical bar chart and a pie chart with [BokehJS](https://docs.bokeh.org/en/latest/index.html), displaying the Spark DataFrame contents."
   ]
  },
  {
   "cell_type": "code",
   "execution_count": 18,
   "metadata": {
    "pycharm": {
     "is_executing": false
    }
   },
   "outputs": [
    {
     "data": {
      "text/html": [
       "\n",
       "    <div class=\"bk-root\">\n",
       "        <a href=\"https://bokeh.org\" target=\"_blank\" class=\"bk-logo bk-logo-small bk-logo-notebook\"></a>\n",
       "        <span id=\"1001\">Loading BokehJS ...</span>\n",
       "    </div>"
      ]
     },
     "metadata": {},
     "output_type": "display_data"
    },
    {
     "data": {
      "application/javascript": [
       "\n",
       "(function(root) {\n",
       "  function now() {\n",
       "    return new Date();\n",
       "  }\n",
       "\n",
       "  var force = true;\n",
       "\n",
       "  if (typeof root._bokeh_onload_callbacks === \"undefined\" || force === true) {\n",
       "    root._bokeh_onload_callbacks = [];\n",
       "    root._bokeh_is_loading = undefined;\n",
       "  }\n",
       "\n",
       "  var JS_MIME_TYPE = 'application/javascript';\n",
       "  var HTML_MIME_TYPE = 'text/html';\n",
       "  var EXEC_MIME_TYPE = 'application/vnd.bokehjs_exec.v0+json';\n",
       "  var CLASS_NAME = 'output_bokeh rendered_html';\n",
       "\n",
       "  /**\n",
       "   * Render data to the DOM node\n",
       "   */\n",
       "  function render(props, node) {\n",
       "    var script = document.createElement(\"script\");\n",
       "    node.appendChild(script);\n",
       "  }\n",
       "\n",
       "  /**\n",
       "   * Handle when an output is cleared or removed\n",
       "   */\n",
       "  function handleClearOutput(event, handle) {\n",
       "    var cell = handle.cell;\n",
       "\n",
       "    var id = cell.output_area._bokeh_element_id;\n",
       "    var server_id = cell.output_area._bokeh_server_id;\n",
       "    // Clean up Bokeh references\n",
       "    if (id != null && id in Bokeh.index) {\n",
       "      Bokeh.index[id].model.document.clear();\n",
       "      delete Bokeh.index[id];\n",
       "    }\n",
       "\n",
       "    if (server_id !== undefined) {\n",
       "      // Clean up Bokeh references\n",
       "      var cmd = \"from bokeh.io.state import curstate; print(curstate().uuid_to_server['\" + server_id + \"'].get_sessions()[0].document.roots[0]._id)\";\n",
       "      cell.notebook.kernel.execute(cmd, {\n",
       "        iopub: {\n",
       "          output: function(msg) {\n",
       "            var id = msg.content.text.trim();\n",
       "            if (id in Bokeh.index) {\n",
       "              Bokeh.index[id].model.document.clear();\n",
       "              delete Bokeh.index[id];\n",
       "            }\n",
       "          }\n",
       "        }\n",
       "      });\n",
       "      // Destroy server and session\n",
       "      var cmd = \"import bokeh.io.notebook as ion; ion.destroy_server('\" + server_id + \"')\";\n",
       "      cell.notebook.kernel.execute(cmd);\n",
       "    }\n",
       "  }\n",
       "\n",
       "  /**\n",
       "   * Handle when a new output is added\n",
       "   */\n",
       "  function handleAddOutput(event, handle) {\n",
       "    var output_area = handle.output_area;\n",
       "    var output = handle.output;\n",
       "\n",
       "    // limit handleAddOutput to display_data with EXEC_MIME_TYPE content only\n",
       "    if ((output.output_type != \"display_data\") || (!output.data.hasOwnProperty(EXEC_MIME_TYPE))) {\n",
       "      return\n",
       "    }\n",
       "\n",
       "    var toinsert = output_area.element.find(\".\" + CLASS_NAME.split(' ')[0]);\n",
       "\n",
       "    if (output.metadata[EXEC_MIME_TYPE][\"id\"] !== undefined) {\n",
       "      toinsert[toinsert.length - 1].firstChild.textContent = output.data[JS_MIME_TYPE];\n",
       "      // store reference to embed id on output_area\n",
       "      output_area._bokeh_element_id = output.metadata[EXEC_MIME_TYPE][\"id\"];\n",
       "    }\n",
       "    if (output.metadata[EXEC_MIME_TYPE][\"server_id\"] !== undefined) {\n",
       "      var bk_div = document.createElement(\"div\");\n",
       "      bk_div.innerHTML = output.data[HTML_MIME_TYPE];\n",
       "      var script_attrs = bk_div.children[0].attributes;\n",
       "      for (var i = 0; i < script_attrs.length; i++) {\n",
       "        toinsert[toinsert.length - 1].firstChild.setAttribute(script_attrs[i].name, script_attrs[i].value);\n",
       "      }\n",
       "      // store reference to server id on output_area\n",
       "      output_area._bokeh_server_id = output.metadata[EXEC_MIME_TYPE][\"server_id\"];\n",
       "    }\n",
       "  }\n",
       "\n",
       "  function register_renderer(events, OutputArea) {\n",
       "\n",
       "    function append_mime(data, metadata, element) {\n",
       "      // create a DOM node to render to\n",
       "      var toinsert = this.create_output_subarea(\n",
       "        metadata,\n",
       "        CLASS_NAME,\n",
       "        EXEC_MIME_TYPE\n",
       "      );\n",
       "      this.keyboard_manager.register_events(toinsert);\n",
       "      // Render to node\n",
       "      var props = {data: data, metadata: metadata[EXEC_MIME_TYPE]};\n",
       "      render(props, toinsert[toinsert.length - 1]);\n",
       "      element.append(toinsert);\n",
       "      return toinsert\n",
       "    }\n",
       "\n",
       "    /* Handle when an output is cleared or removed */\n",
       "    events.on('clear_output.CodeCell', handleClearOutput);\n",
       "    events.on('delete.Cell', handleClearOutput);\n",
       "\n",
       "    /* Handle when a new output is added */\n",
       "    events.on('output_added.OutputArea', handleAddOutput);\n",
       "\n",
       "    /**\n",
       "     * Register the mime type and append_mime function with output_area\n",
       "     */\n",
       "    OutputArea.prototype.register_mime_type(EXEC_MIME_TYPE, append_mime, {\n",
       "      /* Is output safe? */\n",
       "      safe: true,\n",
       "      /* Index of renderer in `output_area.display_order` */\n",
       "      index: 0\n",
       "    });\n",
       "  }\n",
       "\n",
       "  // register the mime type if in Jupyter Notebook environment and previously unregistered\n",
       "  if (root.Jupyter !== undefined) {\n",
       "    var events = require('base/js/events');\n",
       "    var OutputArea = require('notebook/js/outputarea').OutputArea;\n",
       "\n",
       "    if (OutputArea.prototype.mime_types().indexOf(EXEC_MIME_TYPE) == -1) {\n",
       "      register_renderer(events, OutputArea);\n",
       "    }\n",
       "  }\n",
       "\n",
       "  \n",
       "  if (typeof (root._bokeh_timeout) === \"undefined\" || force === true) {\n",
       "    root._bokeh_timeout = Date.now() + 5000;\n",
       "    root._bokeh_failed_load = false;\n",
       "  }\n",
       "\n",
       "  var NB_LOAD_WARNING = {'data': {'text/html':\n",
       "     \"<div style='background-color: #fdd'>\\n\"+\n",
       "     \"<p>\\n\"+\n",
       "     \"BokehJS does not appear to have successfully loaded. If loading BokehJS from CDN, this \\n\"+\n",
       "     \"may be due to a slow or bad network connection. Possible fixes:\\n\"+\n",
       "     \"</p>\\n\"+\n",
       "     \"<ul>\\n\"+\n",
       "     \"<li>re-rerun `output_notebook()` to attempt to load from CDN again, or</li>\\n\"+\n",
       "     \"<li>use INLINE resources instead, as so:</li>\\n\"+\n",
       "     \"</ul>\\n\"+\n",
       "     \"<code>\\n\"+\n",
       "     \"from bokeh.resources import INLINE\\n\"+\n",
       "     \"output_notebook(resources=INLINE)\\n\"+\n",
       "     \"</code>\\n\"+\n",
       "     \"</div>\"}};\n",
       "\n",
       "  function display_loaded() {\n",
       "    var el = document.getElementById(\"1001\");\n",
       "    if (el != null) {\n",
       "      el.textContent = \"BokehJS is loading...\";\n",
       "    }\n",
       "    if (root.Bokeh !== undefined) {\n",
       "      if (el != null) {\n",
       "        el.textContent = \"BokehJS \" + root.Bokeh.version + \" successfully loaded.\";\n",
       "      }\n",
       "    } else if (Date.now() < root._bokeh_timeout) {\n",
       "      setTimeout(display_loaded, 100)\n",
       "    }\n",
       "  }\n",
       "\n",
       "\n",
       "  function run_callbacks() {\n",
       "    try {\n",
       "      root._bokeh_onload_callbacks.forEach(function(callback) {\n",
       "        if (callback != null)\n",
       "          callback();\n",
       "      });\n",
       "    } finally {\n",
       "      delete root._bokeh_onload_callbacks\n",
       "    }\n",
       "    console.debug(\"Bokeh: all callbacks have finished\");\n",
       "  }\n",
       "\n",
       "  function load_libs(css_urls, js_urls, callback) {\n",
       "    if (css_urls == null) css_urls = [];\n",
       "    if (js_urls == null) js_urls = [];\n",
       "\n",
       "    root._bokeh_onload_callbacks.push(callback);\n",
       "    if (root._bokeh_is_loading > 0) {\n",
       "      console.debug(\"Bokeh: BokehJS is being loaded, scheduling callback at\", now());\n",
       "      return null;\n",
       "    }\n",
       "    if (js_urls == null || js_urls.length === 0) {\n",
       "      run_callbacks();\n",
       "      return null;\n",
       "    }\n",
       "    console.debug(\"Bokeh: BokehJS not loaded, scheduling load and callback at\", now());\n",
       "    root._bokeh_is_loading = css_urls.length + js_urls.length;\n",
       "\n",
       "    function on_load() {\n",
       "      root._bokeh_is_loading--;\n",
       "      if (root._bokeh_is_loading === 0) {\n",
       "        console.debug(\"Bokeh: all BokehJS libraries/stylesheets loaded\");\n",
       "        run_callbacks()\n",
       "      }\n",
       "    }\n",
       "\n",
       "    function on_error() {\n",
       "      console.error(\"failed to load \" + url);\n",
       "    }\n",
       "\n",
       "    for (var i = 0; i < css_urls.length; i++) {\n",
       "      var url = css_urls[i];\n",
       "      const element = document.createElement(\"link\");\n",
       "      element.onload = on_load;\n",
       "      element.onerror = on_error;\n",
       "      element.rel = \"stylesheet\";\n",
       "      element.type = \"text/css\";\n",
       "      element.href = url;\n",
       "      console.debug(\"Bokeh: injecting link tag for BokehJS stylesheet: \", url);\n",
       "      document.body.appendChild(element);\n",
       "    }\n",
       "\n",
       "    for (var i = 0; i < js_urls.length; i++) {\n",
       "      var url = js_urls[i];\n",
       "      var element = document.createElement('script');\n",
       "      element.onload = on_load;\n",
       "      element.onerror = on_error;\n",
       "      element.async = false;\n",
       "      element.src = url;\n",
       "      console.debug(\"Bokeh: injecting script tag for BokehJS library: \", url);\n",
       "      document.head.appendChild(element);\n",
       "    }\n",
       "  };var element = document.getElementById(\"1001\");\n",
       "  if (element == null) {\n",
       "    console.error(\"Bokeh: ERROR: autoload.js configured with elementid '1001' but no matching script tag was found. \")\n",
       "    return false;\n",
       "  }\n",
       "\n",
       "  function inject_raw_css(css) {\n",
       "    const element = document.createElement(\"style\");\n",
       "    element.appendChild(document.createTextNode(css));\n",
       "    document.body.appendChild(element);\n",
       "  }\n",
       "\n",
       "  \n",
       "  var js_urls = [\"https://cdn.pydata.org/bokeh/release/bokeh-1.4.0.min.js\", \"https://cdn.pydata.org/bokeh/release/bokeh-widgets-1.4.0.min.js\", \"https://cdn.pydata.org/bokeh/release/bokeh-tables-1.4.0.min.js\", \"https://cdn.pydata.org/bokeh/release/bokeh-gl-1.4.0.min.js\"];\n",
       "  var css_urls = [];\n",
       "  \n",
       "\n",
       "  var inline_js = [\n",
       "    function(Bokeh) {\n",
       "      Bokeh.set_log_level(\"info\");\n",
       "    },\n",
       "    function(Bokeh) {\n",
       "    \n",
       "    \n",
       "    }\n",
       "  ];\n",
       "\n",
       "  function run_inline_js() {\n",
       "    \n",
       "    if (root.Bokeh !== undefined || force === true) {\n",
       "      \n",
       "    for (var i = 0; i < inline_js.length; i++) {\n",
       "      inline_js[i].call(root, root.Bokeh);\n",
       "    }\n",
       "    if (force === true) {\n",
       "        display_loaded();\n",
       "      }} else if (Date.now() < root._bokeh_timeout) {\n",
       "      setTimeout(run_inline_js, 100);\n",
       "    } else if (!root._bokeh_failed_load) {\n",
       "      console.log(\"Bokeh: BokehJS failed to load within specified timeout.\");\n",
       "      root._bokeh_failed_load = true;\n",
       "    } else if (force !== true) {\n",
       "      var cell = $(document.getElementById(\"1001\")).parents('.cell').data().cell;\n",
       "      cell.output_area.append_execute_result(NB_LOAD_WARNING)\n",
       "    }\n",
       "\n",
       "  }\n",
       "\n",
       "  if (root._bokeh_is_loading === 0) {\n",
       "    console.debug(\"Bokeh: BokehJS loaded, going straight to plotting\");\n",
       "    run_inline_js();\n",
       "  } else {\n",
       "    load_libs(css_urls, js_urls, function() {\n",
       "      console.debug(\"Bokeh: BokehJS plotting callback run at\", now());\n",
       "      run_inline_js();\n",
       "    });\n",
       "  }\n",
       "}(window));"
      ],
      "application/vnd.bokehjs_load.v0+json": "\n(function(root) {\n  function now() {\n    return new Date();\n  }\n\n  var force = true;\n\n  if (typeof root._bokeh_onload_callbacks === \"undefined\" || force === true) {\n    root._bokeh_onload_callbacks = [];\n    root._bokeh_is_loading = undefined;\n  }\n\n  \n\n  \n  if (typeof (root._bokeh_timeout) === \"undefined\" || force === true) {\n    root._bokeh_timeout = Date.now() + 5000;\n    root._bokeh_failed_load = false;\n  }\n\n  var NB_LOAD_WARNING = {'data': {'text/html':\n     \"<div style='background-color: #fdd'>\\n\"+\n     \"<p>\\n\"+\n     \"BokehJS does not appear to have successfully loaded. If loading BokehJS from CDN, this \\n\"+\n     \"may be due to a slow or bad network connection. Possible fixes:\\n\"+\n     \"</p>\\n\"+\n     \"<ul>\\n\"+\n     \"<li>re-rerun `output_notebook()` to attempt to load from CDN again, or</li>\\n\"+\n     \"<li>use INLINE resources instead, as so:</li>\\n\"+\n     \"</ul>\\n\"+\n     \"<code>\\n\"+\n     \"from bokeh.resources import INLINE\\n\"+\n     \"output_notebook(resources=INLINE)\\n\"+\n     \"</code>\\n\"+\n     \"</div>\"}};\n\n  function display_loaded() {\n    var el = document.getElementById(\"1001\");\n    if (el != null) {\n      el.textContent = \"BokehJS is loading...\";\n    }\n    if (root.Bokeh !== undefined) {\n      if (el != null) {\n        el.textContent = \"BokehJS \" + root.Bokeh.version + \" successfully loaded.\";\n      }\n    } else if (Date.now() < root._bokeh_timeout) {\n      setTimeout(display_loaded, 100)\n    }\n  }\n\n\n  function run_callbacks() {\n    try {\n      root._bokeh_onload_callbacks.forEach(function(callback) {\n        if (callback != null)\n          callback();\n      });\n    } finally {\n      delete root._bokeh_onload_callbacks\n    }\n    console.debug(\"Bokeh: all callbacks have finished\");\n  }\n\n  function load_libs(css_urls, js_urls, callback) {\n    if (css_urls == null) css_urls = [];\n    if (js_urls == null) js_urls = [];\n\n    root._bokeh_onload_callbacks.push(callback);\n    if (root._bokeh_is_loading > 0) {\n      console.debug(\"Bokeh: BokehJS is being loaded, scheduling callback at\", now());\n      return null;\n    }\n    if (js_urls == null || js_urls.length === 0) {\n      run_callbacks();\n      return null;\n    }\n    console.debug(\"Bokeh: BokehJS not loaded, scheduling load and callback at\", now());\n    root._bokeh_is_loading = css_urls.length + js_urls.length;\n\n    function on_load() {\n      root._bokeh_is_loading--;\n      if (root._bokeh_is_loading === 0) {\n        console.debug(\"Bokeh: all BokehJS libraries/stylesheets loaded\");\n        run_callbacks()\n      }\n    }\n\n    function on_error() {\n      console.error(\"failed to load \" + url);\n    }\n\n    for (var i = 0; i < css_urls.length; i++) {\n      var url = css_urls[i];\n      const element = document.createElement(\"link\");\n      element.onload = on_load;\n      element.onerror = on_error;\n      element.rel = \"stylesheet\";\n      element.type = \"text/css\";\n      element.href = url;\n      console.debug(\"Bokeh: injecting link tag for BokehJS stylesheet: \", url);\n      document.body.appendChild(element);\n    }\n\n    for (var i = 0; i < js_urls.length; i++) {\n      var url = js_urls[i];\n      var element = document.createElement('script');\n      element.onload = on_load;\n      element.onerror = on_error;\n      element.async = false;\n      element.src = url;\n      console.debug(\"Bokeh: injecting script tag for BokehJS library: \", url);\n      document.head.appendChild(element);\n    }\n  };var element = document.getElementById(\"1001\");\n  if (element == null) {\n    console.error(\"Bokeh: ERROR: autoload.js configured with elementid '1001' but no matching script tag was found. \")\n    return false;\n  }\n\n  function inject_raw_css(css) {\n    const element = document.createElement(\"style\");\n    element.appendChild(document.createTextNode(css));\n    document.body.appendChild(element);\n  }\n\n  \n  var js_urls = [\"https://cdn.pydata.org/bokeh/release/bokeh-1.4.0.min.js\", \"https://cdn.pydata.org/bokeh/release/bokeh-widgets-1.4.0.min.js\", \"https://cdn.pydata.org/bokeh/release/bokeh-tables-1.4.0.min.js\", \"https://cdn.pydata.org/bokeh/release/bokeh-gl-1.4.0.min.js\"];\n  var css_urls = [];\n  \n\n  var inline_js = [\n    function(Bokeh) {\n      Bokeh.set_log_level(\"info\");\n    },\n    function(Bokeh) {\n    \n    \n    }\n  ];\n\n  function run_inline_js() {\n    \n    if (root.Bokeh !== undefined || force === true) {\n      \n    for (var i = 0; i < inline_js.length; i++) {\n      inline_js[i].call(root, root.Bokeh);\n    }\n    if (force === true) {\n        display_loaded();\n      }} else if (Date.now() < root._bokeh_timeout) {\n      setTimeout(run_inline_js, 100);\n    } else if (!root._bokeh_failed_load) {\n      console.log(\"Bokeh: BokehJS failed to load within specified timeout.\");\n      root._bokeh_failed_load = true;\n    } else if (force !== true) {\n      var cell = $(document.getElementById(\"1001\")).parents('.cell').data().cell;\n      cell.output_area.append_execute_result(NB_LOAD_WARNING)\n    }\n\n  }\n\n  if (root._bokeh_is_loading === 0) {\n    console.debug(\"Bokeh: BokehJS loaded, going straight to plotting\");\n    run_inline_js();\n  } else {\n    load_libs(css_urls, js_urls, function() {\n      console.debug(\"Bokeh: BokehJS plotting callback run at\", now());\n      run_inline_js();\n    });\n  }\n}(window));"
     },
     "metadata": {},
     "output_type": "display_data"
    }
   ],
   "source": [
    "from math import pi\n",
    "from bokeh.io import output_notebook, show\n",
    "from bokeh.plotting import figure\n",
    "from bokeh.models import ColumnDataSource\n",
    "from bokeh.transform import factor_cmap, cumsum\n",
    "from bokeh.palettes import Paired12, Category20c\n",
    "\n",
    "output_notebook()"
   ]
  },
  {
   "cell_type": "markdown",
   "metadata": {},
   "source": [
    "### Vertical Bar Chart"
   ]
  },
  {
   "cell_type": "code",
   "execution_count": 19,
   "metadata": {
    "pycharm": {
     "is_executing": false
    }
   },
   "outputs": [
    {
     "data": {
      "text/html": [
       "\n",
       "\n",
       "\n",
       "\n",
       "\n",
       "\n",
       "  <div class=\"bk-root\" id=\"cc813293-000f-4343-980a-27df53d2d4f4\" data-root-id=\"1004\"></div>\n"
      ]
     },
     "metadata": {},
     "output_type": "display_data"
    },
    {
     "data": {
      "application/javascript": [
       "(function(root) {\n",
       "  function embed_document(root) {\n",
       "    \n",
       "  var docs_json = {\"0d159cbd-4383-4e95-b1fa-dcf1cfbce58d\":{\"roots\":{\"references\":[{\"attributes\":{\"below\":[{\"id\":\"1013\",\"type\":\"CategoricalAxis\"}],\"center\":[{\"id\":\"1016\",\"type\":\"Grid\"},{\"id\":\"1021\",\"type\":\"Grid\"}],\"left\":[{\"id\":\"1017\",\"type\":\"LinearAxis\"}],\"min_border\":0,\"plot_height\":375,\"plot_width\":750,\"renderers\":[{\"id\":\"1040\",\"type\":\"GlyphRenderer\"}],\"title\":{\"id\":\"1042\",\"type\":\"Title\"},\"toolbar\":{\"id\":\"1029\",\"type\":\"Toolbar\"},\"x_range\":{\"id\":\"1005\",\"type\":\"FactorRange\"},\"x_scale\":{\"id\":\"1009\",\"type\":\"CategoricalScale\"},\"y_range\":{\"id\":\"1007\",\"type\":\"DataRange1d\"},\"y_scale\":{\"id\":\"1011\",\"type\":\"LinearScale\"}},\"id\":\"1004\",\"subtype\":\"Figure\",\"type\":\"Plot\"},{\"attributes\":{},\"id\":\"1025\",\"type\":\"SaveTool\"},{\"attributes\":{\"source\":{\"id\":\"1002\",\"type\":\"ColumnDataSource\"}},\"id\":\"1041\",\"type\":\"CDSView\"},{\"attributes\":{\"active_drag\":\"auto\",\"active_inspect\":\"auto\",\"active_multi\":null,\"active_scroll\":\"auto\",\"active_tap\":\"auto\",\"tools\":[{\"id\":\"1022\",\"type\":\"PanTool\"},{\"id\":\"1023\",\"type\":\"WheelZoomTool\"},{\"id\":\"1024\",\"type\":\"BoxZoomTool\"},{\"id\":\"1025\",\"type\":\"SaveTool\"},{\"id\":\"1026\",\"type\":\"ResetTool\"},{\"id\":\"1027\",\"type\":\"HelpTool\"},{\"id\":\"1028\",\"type\":\"HoverTool\"}]},\"id\":\"1029\",\"type\":\"Toolbar\"},{\"attributes\":{\"factors\":[\"Coffee\",\"Bread\",\"Tea\",\"Cake\",\"Pastry\",\"Sandwich\",\"Medialuna\",\"Hot chocolate\",\"Cookies\",\"Brownie\"],\"palette\":[\"#a6cee3\",\"#1f78b4\",\"#b2df8a\",\"#33a02c\",\"#fb9a99\",\"#e31a1c\",\"#fdbf6f\",\"#ff7f00\",\"#cab2d6\",\"#6a3d9a\",\"#ffff99\",\"#b15928\"]},\"id\":\"1003\",\"type\":\"CategoricalColorMapper\"},{\"attributes\":{},\"id\":\"1026\",\"type\":\"ResetTool\"},{\"attributes\":{\"callback\":null,\"data\":{\"count\":[5471,3325,1435,1025,856,771,616,590,540,379],\"index\":[0,1,2,3,4,5,6,7,8,9],\"item\":[\"Coffee\",\"Bread\",\"Tea\",\"Cake\",\"Pastry\",\"Sandwich\",\"Medialuna\",\"Hot chocolate\",\"Cookies\",\"Brownie\"]},\"selected\":{\"id\":\"1050\",\"type\":\"Selection\"},\"selection_policy\":{\"id\":\"1049\",\"type\":\"UnionRenderers\"}},\"id\":\"1002\",\"type\":\"ColumnDataSource\"},{\"attributes\":{},\"id\":\"1046\",\"type\":\"BasicTickFormatter\"},{\"attributes\":{\"overlay\":{\"id\":\"1051\",\"type\":\"BoxAnnotation\"}},\"id\":\"1024\",\"type\":\"BoxZoomTool\"},{\"attributes\":{},\"id\":\"1014\",\"type\":\"CategoricalTicker\"},{\"attributes\":{},\"id\":\"1048\",\"type\":\"CategoricalTickFormatter\"},{\"attributes\":{\"axis_label\":\"Total Items Sold\",\"formatter\":{\"id\":\"1046\",\"type\":\"BasicTickFormatter\"},\"ticker\":{\"id\":\"1018\",\"type\":\"BasicTicker\"}},\"id\":\"1017\",\"type\":\"LinearAxis\"},{\"attributes\":{},\"id\":\"1049\",\"type\":\"UnionRenderers\"},{\"attributes\":{\"fill_alpha\":{\"value\":0.1},\"fill_color\":{\"value\":\"#1f77b4\"},\"line_alpha\":{\"value\":0.1},\"line_color\":{\"value\":\"#1f77b4\"},\"top\":{\"field\":\"count\"},\"width\":{\"value\":0.9},\"x\":{\"field\":\"item\"}},\"id\":\"1039\",\"type\":\"VBar\"},{\"attributes\":{\"axis_label\":\"Bakery Items\",\"formatter\":{\"id\":\"1048\",\"type\":\"CategoricalTickFormatter\"},\"ticker\":{\"id\":\"1014\",\"type\":\"CategoricalTicker\"}},\"id\":\"1013\",\"type\":\"CategoricalAxis\"},{\"attributes\":{},\"id\":\"1050\",\"type\":\"Selection\"},{\"attributes\":{\"ticker\":{\"id\":\"1014\",\"type\":\"CategoricalTicker\"}},\"id\":\"1016\",\"type\":\"Grid\"},{\"attributes\":{},\"id\":\"1011\",\"type\":\"LinearScale\"},{\"attributes\":{\"bottom_units\":\"screen\",\"fill_alpha\":{\"value\":0.5},\"fill_color\":{\"value\":\"lightgrey\"},\"left_units\":\"screen\",\"level\":\"overlay\",\"line_alpha\":{\"value\":1.0},\"line_color\":{\"value\":\"black\"},\"line_dash\":[4,4],\"line_width\":{\"value\":2},\"render_mode\":\"css\",\"right_units\":\"screen\",\"top_units\":\"screen\"},\"id\":\"1051\",\"type\":\"BoxAnnotation\"},{\"attributes\":{},\"id\":\"1009\",\"type\":\"CategoricalScale\"},{\"attributes\":{},\"id\":\"1018\",\"type\":\"BasicTicker\"},{\"attributes\":{\"dimension\":1,\"ticker\":{\"id\":\"1018\",\"type\":\"BasicTicker\"}},\"id\":\"1021\",\"type\":\"Grid\"},{\"attributes\":{},\"id\":\"1022\",\"type\":\"PanTool\"},{\"attributes\":{\"callback\":null},\"id\":\"1007\",\"type\":\"DataRange1d\"},{\"attributes\":{\"callback\":null,\"factors\":[\"Coffee\",\"Bread\",\"Tea\",\"Cake\",\"Pastry\",\"Sandwich\",\"Medialuna\",\"Hot chocolate\",\"Cookies\",\"Brownie\"]},\"id\":\"1005\",\"type\":\"FactorRange\"},{\"attributes\":{\"text\":\"Top 10 Bakery Items\"},\"id\":\"1042\",\"type\":\"Title\"},{\"attributes\":{},\"id\":\"1023\",\"type\":\"WheelZoomTool\"},{\"attributes\":{\"fill_color\":{\"field\":\"item\",\"transform\":{\"id\":\"1003\",\"type\":\"CategoricalColorMapper\"}},\"line_color\":{\"value\":\"#1f77b4\"},\"top\":{\"field\":\"count\"},\"width\":{\"value\":0.9},\"x\":{\"field\":\"item\"}},\"id\":\"1038\",\"type\":\"VBar\"},{\"attributes\":{},\"id\":\"1027\",\"type\":\"HelpTool\"},{\"attributes\":{\"callback\":null,\"tooltips\":[[\"item\",\"@item\"],[\"count\",\"@{count}{,}\"]]},\"id\":\"1028\",\"type\":\"HoverTool\"},{\"attributes\":{\"data_source\":{\"id\":\"1002\",\"type\":\"ColumnDataSource\"},\"glyph\":{\"id\":\"1038\",\"type\":\"VBar\"},\"hover_glyph\":null,\"muted_glyph\":null,\"nonselection_glyph\":{\"id\":\"1039\",\"type\":\"VBar\"},\"selection_glyph\":null,\"view\":{\"id\":\"1041\",\"type\":\"CDSView\"}},\"id\":\"1040\",\"type\":\"GlyphRenderer\"}],\"root_ids\":[\"1004\"]},\"title\":\"Bokeh Application\",\"version\":\"1.4.0\"}};\n",
       "  var render_items = [{\"docid\":\"0d159cbd-4383-4e95-b1fa-dcf1cfbce58d\",\"roots\":{\"1004\":\"cc813293-000f-4343-980a-27df53d2d4f4\"}}];\n",
       "  root.Bokeh.embed.embed_items_notebook(docs_json, render_items);\n",
       "\n",
       "  }\n",
       "  if (root.Bokeh !== undefined) {\n",
       "    embed_document(root);\n",
       "  } else {\n",
       "    var attempts = 0;\n",
       "    var timer = setInterval(function(root) {\n",
       "      if (root.Bokeh !== undefined) {\n",
       "        clearInterval(timer);\n",
       "        embed_document(root);\n",
       "      } else {\n",
       "        attempts++;\n",
       "        if (attempts > 100) {\n",
       "          clearInterval(timer);\n",
       "          console.log(\"Bokeh: ERROR: Unable to run BokehJS code because BokehJS library is missing\");\n",
       "        }\n",
       "      }\n",
       "    }, 10, root)\n",
       "  }\n",
       "})(window);"
      ],
      "application/vnd.bokehjs_exec.v0+json": ""
     },
     "metadata": {
      "application/vnd.bokehjs_exec.v0+json": {
       "id": "1004"
      }
     },
     "output_type": "display_data"
    }
   ],
   "source": [
    "source = ColumnDataSource(data=df5.toPandas())\n",
    "tooltips = [('item', '@item'), ('count', '@{count}{,}')]\n",
    "items = source.data['item'].tolist()\n",
    "color_map = factor_cmap(\n",
    "    field_name='item', \n",
    "    palette=Paired12, \n",
    "    factors=items\n",
    ")\n",
    "plot = figure(\n",
    "    x_range=items, \n",
    "    plot_width=750, \n",
    "    plot_height=375, \n",
    "    min_border=0, \n",
    "    tooltips=tooltips\n",
    ")\n",
    "plot.vbar(\n",
    "    x='item', \n",
    "    bottom=0, \n",
    "    top='count', \n",
    "    source=source, \n",
    "    width=0.9, \n",
    "    fill_color=color_map\n",
    ")\n",
    "plot.title.text = 'Top 10 Bakery Items'\n",
    "plot.xaxis.axis_label = 'Bakery Items'\n",
    "plot.yaxis.axis_label = 'Total Items Sold'\n",
    "\n",
    "show(plot)"
   ]
  },
  {
   "cell_type": "markdown",
   "metadata": {},
   "source": [
    "### Pie Chart"
   ]
  },
  {
   "cell_type": "code",
   "execution_count": 20,
   "metadata": {
    "pycharm": {
     "is_executing": false
    }
   },
   "outputs": [
    {
     "data": {
      "text/html": [
       "\n",
       "\n",
       "\n",
       "\n",
       "\n",
       "\n",
       "  <div class=\"bk-root\" id=\"6a937920-94fd-4611-b3c0-750516897c4c\" data-root-id=\"1106\"></div>\n"
      ]
     },
     "metadata": {},
     "output_type": "display_data"
    },
    {
     "data": {
      "application/javascript": [
       "(function(root) {\n",
       "  function embed_document(root) {\n",
       "    \n",
       "  var docs_json = {\"78f7bf00-a655-4c7b-8988-d17e417e8678\":{\"roots\":{\"references\":[{\"attributes\":{\"below\":[{\"id\":\"1117\",\"type\":\"LinearAxis\"}],\"center\":[{\"id\":\"1121\",\"type\":\"Grid\"},{\"id\":\"1126\",\"type\":\"Grid\"},{\"id\":\"1156\",\"type\":\"Legend\"}],\"left\":[{\"id\":\"1122\",\"type\":\"LinearAxis\"}],\"plot_height\":375,\"renderers\":[{\"id\":\"1148\",\"type\":\"GlyphRenderer\"}],\"title\":{\"id\":\"1107\",\"type\":\"Title\"},\"toolbar\":{\"id\":\"1134\",\"type\":\"Toolbar\"},\"x_range\":{\"id\":\"1109\",\"type\":\"Range1d\"},\"x_scale\":{\"id\":\"1113\",\"type\":\"LinearScale\"},\"y_range\":{\"id\":\"1111\",\"type\":\"DataRange1d\"},\"y_scale\":{\"id\":\"1115\",\"type\":\"LinearScale\"}},\"id\":\"1106\",\"subtype\":\"Figure\",\"type\":\"Plot\"},{\"attributes\":{\"end_angle\":{\"expr\":{\"id\":\"1143\",\"type\":\"CumSum\"},\"units\":\"rad\"},\"fill_alpha\":{\"value\":0.1},\"fill_color\":{\"value\":\"#1f77b4\"},\"line_alpha\":{\"value\":0.1},\"line_color\":{\"value\":\"#1f77b4\"},\"radius\":{\"units\":\"data\",\"value\":0.4},\"start_angle\":{\"expr\":{\"id\":\"1142\",\"type\":\"CumSum\"},\"units\":\"rad\"},\"x\":{\"value\":0},\"y\":{\"value\":1}},\"id\":\"1147\",\"type\":\"Wedge\"},{\"attributes\":{},\"id\":\"1131\",\"type\":\"ResetTool\"},{\"attributes\":{},\"id\":\"1172\",\"type\":\"UnionRenderers\"},{\"attributes\":{\"field\":\"angle\",\"include_zero\":true},\"id\":\"1142\",\"type\":\"CumSum\"},{\"attributes\":{\"factors\":[\"Coffee\",\"Bread\",\"Tea\",\"Cake\",\"Pastry\",\"Sandwich\",\"Medialuna\",\"Hot chocolate\",\"Cookies\",\"Brownie\"],\"palette\":[\"#a6cee3\",\"#1f78b4\",\"#b2df8a\",\"#33a02c\",\"#fb9a99\",\"#e31a1c\",\"#fdbf6f\",\"#ff7f00\",\"#cab2d6\",\"#6a3d9a\",\"#ffff99\",\"#b15928\"]},\"id\":\"1003\",\"type\":\"CategoricalColorMapper\"},{\"attributes\":{\"callback\":null,\"tooltips\":[[\"item\",\"@item\"],[\"count\",\"@{count}{,}\"]]},\"id\":\"1133\",\"type\":\"HoverTool\"},{\"attributes\":{\"callback\":null},\"id\":\"1111\",\"type\":\"DataRange1d\"},{\"attributes\":{\"callback\":null,\"start\":-0.5},\"id\":\"1109\",\"type\":\"Range1d\"},{\"attributes\":{\"text\":\"Top 10 Bakery Items\"},\"id\":\"1107\",\"type\":\"Title\"},{\"attributes\":{\"data_source\":{\"id\":\"1144\",\"type\":\"ColumnDataSource\"},\"glyph\":{\"id\":\"1146\",\"type\":\"Wedge\"},\"hover_glyph\":null,\"muted_glyph\":null,\"nonselection_glyph\":{\"id\":\"1147\",\"type\":\"Wedge\"},\"selection_glyph\":null,\"view\":{\"id\":\"1149\",\"type\":\"CDSView\"}},\"id\":\"1148\",\"type\":\"GlyphRenderer\"},{\"attributes\":{\"items\":[{\"id\":\"1157\",\"type\":\"LegendItem\"}]},\"id\":\"1156\",\"type\":\"Legend\"},{\"attributes\":{\"end_angle\":{\"expr\":{\"id\":\"1143\",\"type\":\"CumSum\"},\"units\":\"rad\"},\"fill_color\":{\"field\":\"item\",\"transform\":{\"id\":\"1003\",\"type\":\"CategoricalColorMapper\"}},\"line_color\":{\"value\":\"white\"},\"radius\":{\"units\":\"data\",\"value\":0.4},\"start_angle\":{\"expr\":{\"id\":\"1142\",\"type\":\"CumSum\"},\"units\":\"rad\"},\"x\":{\"value\":0},\"y\":{\"value\":1}},\"id\":\"1146\",\"type\":\"Wedge\"},{\"attributes\":{\"grid_line_color\":null,\"ticker\":{\"id\":\"1118\",\"type\":\"BasicTicker\"}},\"id\":\"1121\",\"type\":\"Grid\"},{\"attributes\":{},\"id\":\"1113\",\"type\":\"LinearScale\"},{\"attributes\":{\"source\":{\"id\":\"1144\",\"type\":\"ColumnDataSource\"}},\"id\":\"1149\",\"type\":\"CDSView\"},{\"attributes\":{},\"id\":\"1152\",\"type\":\"BasicTickFormatter\"},{\"attributes\":{\"axis_label\":null,\"formatter\":{\"id\":\"1152\",\"type\":\"BasicTickFormatter\"},\"ticker\":{\"id\":\"1123\",\"type\":\"BasicTicker\"},\"visible\":false},\"id\":\"1122\",\"type\":\"LinearAxis\"},{\"attributes\":{},\"id\":\"1154\",\"type\":\"BasicTickFormatter\"},{\"attributes\":{},\"id\":\"1123\",\"type\":\"BasicTicker\"},{\"attributes\":{\"bottom_units\":\"screen\",\"fill_alpha\":{\"value\":0.5},\"fill_color\":{\"value\":\"lightgrey\"},\"left_units\":\"screen\",\"level\":\"overlay\",\"line_alpha\":{\"value\":1.0},\"line_color\":{\"value\":\"black\"},\"line_dash\":[4,4],\"line_width\":{\"value\":2},\"render_mode\":\"css\",\"right_units\":\"screen\",\"top_units\":\"screen\"},\"id\":\"1155\",\"type\":\"BoxAnnotation\"},{\"attributes\":{\"dimension\":1,\"grid_line_color\":null,\"ticker\":{\"id\":\"1123\",\"type\":\"BasicTicker\"}},\"id\":\"1126\",\"type\":\"Grid\"},{\"attributes\":{\"label\":{\"field\":\"item\"},\"renderers\":[{\"id\":\"1148\",\"type\":\"GlyphRenderer\"}]},\"id\":\"1157\",\"type\":\"LegendItem\"},{\"attributes\":{\"callback\":null,\"data\":{\"angle\":{\"__ndarray__\":\"I0/DmN9SAkAvY5KXwUX2P8vGphGEOeM/tImAq7x22z8e+efVhe/WP11GBW98qNQ/wFrgK02B0D9RdaXu653PP6lIIv3+78w/UXa+1FBPxD8=\",\"dtype\":\"float64\",\"shape\":[10]},\"count\":[5471,3325,1435,1025,856,771,616,590,540,379],\"index\":[0,1,2,3,4,5,6,7,8,9],\"item\":[\"Coffee\",\"Bread\",\"Tea\",\"Cake\",\"Pastry\",\"Sandwich\",\"Medialuna\",\"Hot chocolate\",\"Cookies\",\"Brownie\"]},\"selected\":{\"id\":\"1173\",\"type\":\"Selection\"},\"selection_policy\":{\"id\":\"1172\",\"type\":\"UnionRenderers\"}},\"id\":\"1144\",\"type\":\"ColumnDataSource\"},{\"attributes\":{},\"id\":\"1173\",\"type\":\"Selection\"},{\"attributes\":{},\"id\":\"1132\",\"type\":\"HelpTool\"},{\"attributes\":{},\"id\":\"1115\",\"type\":\"LinearScale\"},{\"attributes\":{\"field\":\"angle\"},\"id\":\"1143\",\"type\":\"CumSum\"},{\"attributes\":{\"axis_label\":null,\"formatter\":{\"id\":\"1154\",\"type\":\"BasicTickFormatter\"},\"ticker\":{\"id\":\"1118\",\"type\":\"BasicTicker\"},\"visible\":false},\"id\":\"1117\",\"type\":\"LinearAxis\"},{\"attributes\":{\"active_drag\":\"auto\",\"active_inspect\":\"auto\",\"active_multi\":null,\"active_scroll\":\"auto\",\"active_tap\":\"auto\",\"tools\":[{\"id\":\"1127\",\"type\":\"PanTool\"},{\"id\":\"1128\",\"type\":\"WheelZoomTool\"},{\"id\":\"1129\",\"type\":\"BoxZoomTool\"},{\"id\":\"1130\",\"type\":\"SaveTool\"},{\"id\":\"1131\",\"type\":\"ResetTool\"},{\"id\":\"1132\",\"type\":\"HelpTool\"},{\"id\":\"1133\",\"type\":\"HoverTool\"}]},\"id\":\"1134\",\"type\":\"Toolbar\"},{\"attributes\":{},\"id\":\"1118\",\"type\":\"BasicTicker\"},{\"attributes\":{},\"id\":\"1127\",\"type\":\"PanTool\"},{\"attributes\":{},\"id\":\"1128\",\"type\":\"WheelZoomTool\"},{\"attributes\":{\"overlay\":{\"id\":\"1155\",\"type\":\"BoxAnnotation\"}},\"id\":\"1129\",\"type\":\"BoxZoomTool\"},{\"attributes\":{},\"id\":\"1130\",\"type\":\"SaveTool\"}],\"root_ids\":[\"1106\"]},\"title\":\"Bokeh Application\",\"version\":\"1.4.0\"}};\n",
       "  var render_items = [{\"docid\":\"78f7bf00-a655-4c7b-8988-d17e417e8678\",\"roots\":{\"1106\":\"6a937920-94fd-4611-b3c0-750516897c4c\"}}];\n",
       "  root.Bokeh.embed.embed_items_notebook(docs_json, render_items);\n",
       "\n",
       "  }\n",
       "  if (root.Bokeh !== undefined) {\n",
       "    embed_document(root);\n",
       "  } else {\n",
       "    var attempts = 0;\n",
       "    var timer = setInterval(function(root) {\n",
       "      if (root.Bokeh !== undefined) {\n",
       "        clearInterval(timer);\n",
       "        embed_document(root);\n",
       "      } else {\n",
       "        attempts++;\n",
       "        if (attempts > 100) {\n",
       "          clearInterval(timer);\n",
       "          console.log(\"Bokeh: ERROR: Unable to run BokehJS code because BokehJS library is missing\");\n",
       "        }\n",
       "      }\n",
       "    }, 10, root)\n",
       "  }\n",
       "})(window);"
      ],
      "application/vnd.bokehjs_exec.v0+json": ""
     },
     "metadata": {
      "application/vnd.bokehjs_exec.v0+json": {
       "id": "1106"
      }
     },
     "output_type": "display_data"
    }
   ],
   "source": [
    "data = df5.toPandas()\n",
    "data['angle'] = data['count'] / data['count'].sum() * 2 * pi\n",
    "plot = figure(\n",
    "    plot_height=375, \n",
    "    title='Top 10 Bakery Items',\n",
    "    tooltips=tooltips, \n",
    "    x_range=(-0.5, 1.0)\n",
    ")\n",
    "plot.wedge(\n",
    "    x=0, \n",
    "    y=1, \n",
    "    radius=0.4,\n",
    "    start_angle=cumsum('angle', \n",
    "                       include_zero=True), \n",
    "    end_angle=cumsum('angle'),\n",
    "    line_color='white', \n",
    "    fill_color=color_map, \n",
    "    legend_field='item', \n",
    "    source=data\n",
    ")\n",
    "plot.axis.axis_label=None\n",
    "plot.axis.visible=False\n",
    "plot.grid.grid_line_color = None\n",
    "\n",
    "show(plot)"
   ]
  },
  {
   "cell_type": "markdown",
   "metadata": {},
   "source": [
    "## Analyze Data with Spark SQL\n",
    "Perform further basic analysis of the DataFrame's bakery data using Spark SQL."
   ]
  },
  {
   "cell_type": "code",
   "execution_count": 21,
   "metadata": {
    "pycharm": {
     "is_executing": false
    }
   },
   "outputs": [
    {
     "name": "stdout",
     "output_type": "stream",
     "text": [
      "DataFrame rows: 20507\n",
      "DataFrame schema: DataFrame[transaction: int, timestamp: timestamp, item: string]\n",
      "+-----------+-------------------+-------------+\n",
      "|transaction|timestamp          |item         |\n",
      "+-----------+-------------------+-------------+\n",
      "|1          |2016-10-30 09:58:11|Bread        |\n",
      "|2          |2016-10-30 10:05:34|Scandinavian |\n",
      "|2          |2016-10-30 10:05:34|Scandinavian |\n",
      "|3          |2016-10-30 10:07:57|Cookies      |\n",
      "|3          |2016-10-30 10:07:57|Hot chocolate|\n",
      "|3          |2016-10-30 10:07:57|Jam          |\n",
      "|4          |2016-10-30 10:08:41|Muffin       |\n",
      "|5          |2016-10-30 10:13:03|Bread        |\n",
      "|5          |2016-10-30 10:13:03|Coffee       |\n",
      "|5          |2016-10-30 10:13:03|Pastry       |\n",
      "+-----------+-------------------+-------------+\n",
      "only showing top 10 rows\n",
      "\n"
     ]
    }
   ],
   "source": [
    "sql_query = \"SELECT transaction, CAST(CONCAT(date,' ',time) as timestamp) as timestamp, item \" + \\\n",
    "            \"FROM tmp_bakery \" + \\\n",
    "            \"WHERE item NOT LIKE 'NONE' \" + \\\n",
    "            \"ORDER BY transaction ASC, item ASC\"\n",
    "\n",
    "df6 = spark.sql(sql_query)\n",
    "print('DataFrame rows: %d' % df6.count())\n",
    "print('DataFrame schema: %s' % df6)\n",
    "df6.show(10, False)"
   ]
  },
  {
   "cell_type": "markdown",
   "metadata": {},
   "source": [
    "## Read and Write Data to Parquet Format\n",
    "Read and write resulting DataFrame contents to Parquet."
   ]
  },
  {
   "cell_type": "code",
   "execution_count": 22,
   "metadata": {
    "pycharm": {
     "is_executing": false
    }
   },
   "outputs": [],
   "source": [
    "df6.write.parquet('output/bakery_parquet', mode='overwrite')"
   ]
  },
  {
   "cell_type": "code",
   "execution_count": 23,
   "metadata": {
    "pycharm": {
     "is_executing": false
    }
   },
   "outputs": [
    {
     "name": "stdout",
     "output_type": "stream",
     "text": [
      "total 800K\n",
      "-rw-r--r-- 1 garystaf users 1.9K Dec  3 22:50 part-00000-fb8e241d-d822-4ac2-b57f-090c71ce9193-c000.snappy.parquet\n",
      "-rw-r--r-- 1 garystaf users 2.0K Dec  3 22:50 part-00001-fb8e241d-d822-4ac2-b57f-090c71ce9193-c000.snappy.parquet\n",
      "-rw-r--r-- 1 garystaf users 1.8K Dec  3 22:50 part-00002-fb8e241d-d822-4ac2-b57f-090c71ce9193-c000.snappy.parquet\n",
      "-rw-r--r-- 1 garystaf users 2.0K Dec  3 22:50 part-00003-fb8e241d-d822-4ac2-b57f-090c71ce9193-c000.snappy.parquet\n",
      "-rw-r--r-- 1 garystaf users 1.9K Dec  3 22:50 part-00004-fb8e241d-d822-4ac2-b57f-090c71ce9193-c000.snappy.parquet\n",
      "-rw-r--r-- 1 garystaf users 1.9K Dec  3 22:50 part-00005-fb8e241d-d822-4ac2-b57f-090c71ce9193-c000.snappy.parquet\n",
      "-rw-r--r-- 1 garystaf users 2.0K Dec  3 22:50 part-00006-fb8e241d-d822-4ac2-b57f-090c71ce9193-c000.snappy.parquet\n",
      "-rw-r--r-- 1 garystaf users 1.9K Dec  3 22:50 part-00007-fb8e241d-d822-4ac2-b57f-090c71ce9193-c000.snappy.parquet\n",
      "-rw-r--r-- 1 garystaf users 2.1K Dec  3 22:50 part-00008-fb8e241d-d822-4ac2-b57f-090c71ce9193-c000.snappy.parquet\n",
      "Parquet Files: 13\n"
     ]
    }
   ],
   "source": [
    "! ls 2>&1 -lh output/bakery_parquet | head -10\n",
    "! echo 'Parquet Files:' $(ls | wc -l)"
   ]
  },
  {
   "cell_type": "code",
   "execution_count": 24,
   "metadata": {
    "pycharm": {
     "is_executing": false
    }
   },
   "outputs": [
    {
     "name": "stdout",
     "output_type": "stream",
     "text": [
      "DataFrame rows: 20507\n",
      "DataFrame schema: DataFrame[transaction: int, timestamp: timestamp, item: string]\n",
      "+-----------+-------------------+-------------+\n",
      "|transaction|timestamp          |item         |\n",
      "+-----------+-------------------+-------------+\n",
      "|1          |2016-10-30 09:58:11|Bread        |\n",
      "|2          |2016-10-30 10:05:34|Scandinavian |\n",
      "|2          |2016-10-30 10:05:34|Scandinavian |\n",
      "|3          |2016-10-30 10:07:57|Cookies      |\n",
      "|3          |2016-10-30 10:07:57|Hot chocolate|\n",
      "|3          |2016-10-30 10:07:57|Jam          |\n",
      "|4          |2016-10-30 10:08:41|Muffin       |\n",
      "|5          |2016-10-30 10:13:03|Bread        |\n",
      "|5          |2016-10-30 10:13:03|Coffee       |\n",
      "|5          |2016-10-30 10:13:03|Pastry       |\n",
      "+-----------+-------------------+-------------+\n",
      "only showing top 10 rows\n",
      "\n"
     ]
    }
   ],
   "source": [
    "df7 = spark.read.parquet('output/bakery_parquet')\n",
    "print('DataFrame rows: %d' % df7.count())\n",
    "print('DataFrame schema: %s' % df7)\n",
    "df7.select(df7.transaction, df7.timestamp, df7.item) \\\n",
    "    .sort(df7.transaction, df7.item) \\\n",
    "    .show(10, False)"
   ]
  }
 ],
 "metadata": {
  "kernelspec": {
   "display_name": "Python 3",
   "language": "python",
   "name": "python3"
  },
  "language_info": {
   "codemirror_mode": {
    "name": "ipython",
    "version": 3
   },
   "file_extension": ".py",
   "mimetype": "text/x-python",
   "name": "python",
   "nbconvert_exporter": "python",
   "pygments_lexer": "ipython3",
   "version": "3.7.3"
  },
  "pycharm": {
   "stem_cell": {
    "cell_type": "raw",
    "metadata": {
     "collapsed": false
    },
    "source": []
   }
  }
 },
 "nbformat": 4,
 "nbformat_minor": 2
}
